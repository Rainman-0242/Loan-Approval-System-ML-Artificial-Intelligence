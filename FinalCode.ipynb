{
  "nbformat": 4,
  "nbformat_minor": 0,
  "metadata": {
    "colab": {
      "provenance": []
    },
    "kernelspec": {
      "name": "python3",
      "display_name": "Python 3"
    },
    "language_info": {
      "name": "python"
    }
  },
  "cells": [
    {
      "cell_type": "markdown",
      "source": [
        "**Import Libraries**"
      ],
      "metadata": {
        "id": "LELLbbT94xCm"
      }
    },
    {
      "cell_type": "code",
      "execution_count": null,
      "metadata": {
        "id": "Q60qGmv54YET"
      },
      "outputs": [],
      "source": [
        "import numpy as np #for working with arrays, also helps in linear algebra and matrices\n",
        "import pandas as pd #for data structure for manipulating numerical table and analysis\n",
        "import matplotlib.pyplot as plt #for creating 2D graphs\n",
        "import seaborn as sns #for data eploration and data visualization\n",
        "from sklearn import svm\n",
        "import math\n"
      ]
    },
    {
      "cell_type": "markdown",
      "source": [
        "**Read the File**"
      ],
      "metadata": {
        "id": "ID5bq36KVr-9"
      }
    },
    {
      "cell_type": "code",
      "source": [
        "df = pd.read_csv(\"/content/archive (1).zip\") #reading files\n",
        "df.head() #show firt five columns only"
      ],
      "metadata": {
        "colab": {
          "base_uri": "https://localhost:8080/",
          "height": 261
        },
        "id": "muUCDpi-4cgc",
        "outputId": "24887bdc-1b1e-4eaf-c2b7-fa5b734b0ace"
      },
      "execution_count": null,
      "outputs": [
        {
          "output_type": "execute_result",
          "data": {
            "text/plain": [
              "   loan_id   no_of_dependents      education  self_employed   income_annum  \\\n",
              "0        1                  2       Graduate             No        9600000   \n",
              "1        2                  0   Not Graduate            Yes        4100000   \n",
              "2        3                  3       Graduate             No        9100000   \n",
              "3        4                  3       Graduate             No        8200000   \n",
              "4        5                  5   Not Graduate            Yes        9800000   \n",
              "\n",
              "    loan_amount   loan_term   cibil_score   residential_assets_value  \\\n",
              "0      29900000          12           778                    2400000   \n",
              "1      12200000           8           417                    2700000   \n",
              "2      29700000          20           506                    7100000   \n",
              "3      30700000           8           467                   18200000   \n",
              "4      24200000          20           382                   12400000   \n",
              "\n",
              "    commercial_assets_value   luxury_assets_value   bank_asset_value  \\\n",
              "0                  17600000              22700000            8000000   \n",
              "1                   2200000               8800000            3300000   \n",
              "2                   4500000              33300000           12800000   \n",
              "3                   3300000              23300000            7900000   \n",
              "4                   8200000              29400000            5000000   \n",
              "\n",
              "   loan_status  \n",
              "0     Approved  \n",
              "1     Rejected  \n",
              "2     Rejected  \n",
              "3     Rejected  \n",
              "4     Rejected  "
            ],
            "text/html": [
              "\n",
              "  <div id=\"df-91282f36-1cc8-49c0-89a7-2577fa40c3f7\" class=\"colab-df-container\">\n",
              "    <div>\n",
              "<style scoped>\n",
              "    .dataframe tbody tr th:only-of-type {\n",
              "        vertical-align: middle;\n",
              "    }\n",
              "\n",
              "    .dataframe tbody tr th {\n",
              "        vertical-align: top;\n",
              "    }\n",
              "\n",
              "    .dataframe thead th {\n",
              "        text-align: right;\n",
              "    }\n",
              "</style>\n",
              "<table border=\"1\" class=\"dataframe\">\n",
              "  <thead>\n",
              "    <tr style=\"text-align: right;\">\n",
              "      <th></th>\n",
              "      <th>loan_id</th>\n",
              "      <th>no_of_dependents</th>\n",
              "      <th>education</th>\n",
              "      <th>self_employed</th>\n",
              "      <th>income_annum</th>\n",
              "      <th>loan_amount</th>\n",
              "      <th>loan_term</th>\n",
              "      <th>cibil_score</th>\n",
              "      <th>residential_assets_value</th>\n",
              "      <th>commercial_assets_value</th>\n",
              "      <th>luxury_assets_value</th>\n",
              "      <th>bank_asset_value</th>\n",
              "      <th>loan_status</th>\n",
              "    </tr>\n",
              "  </thead>\n",
              "  <tbody>\n",
              "    <tr>\n",
              "      <th>0</th>\n",
              "      <td>1</td>\n",
              "      <td>2</td>\n",
              "      <td>Graduate</td>\n",
              "      <td>No</td>\n",
              "      <td>9600000</td>\n",
              "      <td>29900000</td>\n",
              "      <td>12</td>\n",
              "      <td>778</td>\n",
              "      <td>2400000</td>\n",
              "      <td>17600000</td>\n",
              "      <td>22700000</td>\n",
              "      <td>8000000</td>\n",
              "      <td>Approved</td>\n",
              "    </tr>\n",
              "    <tr>\n",
              "      <th>1</th>\n",
              "      <td>2</td>\n",
              "      <td>0</td>\n",
              "      <td>Not Graduate</td>\n",
              "      <td>Yes</td>\n",
              "      <td>4100000</td>\n",
              "      <td>12200000</td>\n",
              "      <td>8</td>\n",
              "      <td>417</td>\n",
              "      <td>2700000</td>\n",
              "      <td>2200000</td>\n",
              "      <td>8800000</td>\n",
              "      <td>3300000</td>\n",
              "      <td>Rejected</td>\n",
              "    </tr>\n",
              "    <tr>\n",
              "      <th>2</th>\n",
              "      <td>3</td>\n",
              "      <td>3</td>\n",
              "      <td>Graduate</td>\n",
              "      <td>No</td>\n",
              "      <td>9100000</td>\n",
              "      <td>29700000</td>\n",
              "      <td>20</td>\n",
              "      <td>506</td>\n",
              "      <td>7100000</td>\n",
              "      <td>4500000</td>\n",
              "      <td>33300000</td>\n",
              "      <td>12800000</td>\n",
              "      <td>Rejected</td>\n",
              "    </tr>\n",
              "    <tr>\n",
              "      <th>3</th>\n",
              "      <td>4</td>\n",
              "      <td>3</td>\n",
              "      <td>Graduate</td>\n",
              "      <td>No</td>\n",
              "      <td>8200000</td>\n",
              "      <td>30700000</td>\n",
              "      <td>8</td>\n",
              "      <td>467</td>\n",
              "      <td>18200000</td>\n",
              "      <td>3300000</td>\n",
              "      <td>23300000</td>\n",
              "      <td>7900000</td>\n",
              "      <td>Rejected</td>\n",
              "    </tr>\n",
              "    <tr>\n",
              "      <th>4</th>\n",
              "      <td>5</td>\n",
              "      <td>5</td>\n",
              "      <td>Not Graduate</td>\n",
              "      <td>Yes</td>\n",
              "      <td>9800000</td>\n",
              "      <td>24200000</td>\n",
              "      <td>20</td>\n",
              "      <td>382</td>\n",
              "      <td>12400000</td>\n",
              "      <td>8200000</td>\n",
              "      <td>29400000</td>\n",
              "      <td>5000000</td>\n",
              "      <td>Rejected</td>\n",
              "    </tr>\n",
              "  </tbody>\n",
              "</table>\n",
              "</div>\n",
              "    <div class=\"colab-df-buttons\">\n",
              "\n",
              "  <div class=\"colab-df-container\">\n",
              "    <button class=\"colab-df-convert\" onclick=\"convertToInteractive('df-91282f36-1cc8-49c0-89a7-2577fa40c3f7')\"\n",
              "            title=\"Convert this dataframe to an interactive table.\"\n",
              "            style=\"display:none;\">\n",
              "\n",
              "  <svg xmlns=\"http://www.w3.org/2000/svg\" height=\"24px\" viewBox=\"0 -960 960 960\">\n",
              "    <path d=\"M120-120v-720h720v720H120Zm60-500h600v-160H180v160Zm220 220h160v-160H400v160Zm0 220h160v-160H400v160ZM180-400h160v-160H180v160Zm440 0h160v-160H620v160ZM180-180h160v-160H180v160Zm440 0h160v-160H620v160Z\"/>\n",
              "  </svg>\n",
              "    </button>\n",
              "\n",
              "  <style>\n",
              "    .colab-df-container {\n",
              "      display:flex;\n",
              "      gap: 12px;\n",
              "    }\n",
              "\n",
              "    .colab-df-convert {\n",
              "      background-color: #E8F0FE;\n",
              "      border: none;\n",
              "      border-radius: 50%;\n",
              "      cursor: pointer;\n",
              "      display: none;\n",
              "      fill: #1967D2;\n",
              "      height: 32px;\n",
              "      padding: 0 0 0 0;\n",
              "      width: 32px;\n",
              "    }\n",
              "\n",
              "    .colab-df-convert:hover {\n",
              "      background-color: #E2EBFA;\n",
              "      box-shadow: 0px 1px 2px rgba(60, 64, 67, 0.3), 0px 1px 3px 1px rgba(60, 64, 67, 0.15);\n",
              "      fill: #174EA6;\n",
              "    }\n",
              "\n",
              "    .colab-df-buttons div {\n",
              "      margin-bottom: 4px;\n",
              "    }\n",
              "\n",
              "    [theme=dark] .colab-df-convert {\n",
              "      background-color: #3B4455;\n",
              "      fill: #D2E3FC;\n",
              "    }\n",
              "\n",
              "    [theme=dark] .colab-df-convert:hover {\n",
              "      background-color: #434B5C;\n",
              "      box-shadow: 0px 1px 3px 1px rgba(0, 0, 0, 0.15);\n",
              "      filter: drop-shadow(0px 1px 2px rgba(0, 0, 0, 0.3));\n",
              "      fill: #FFFFFF;\n",
              "    }\n",
              "  </style>\n",
              "\n",
              "    <script>\n",
              "      const buttonEl =\n",
              "        document.querySelector('#df-91282f36-1cc8-49c0-89a7-2577fa40c3f7 button.colab-df-convert');\n",
              "      buttonEl.style.display =\n",
              "        google.colab.kernel.accessAllowed ? 'block' : 'none';\n",
              "\n",
              "      async function convertToInteractive(key) {\n",
              "        const element = document.querySelector('#df-91282f36-1cc8-49c0-89a7-2577fa40c3f7');\n",
              "        const dataTable =\n",
              "          await google.colab.kernel.invokeFunction('convertToInteractive',\n",
              "                                                    [key], {});\n",
              "        if (!dataTable) return;\n",
              "\n",
              "        const docLinkHtml = 'Like what you see? Visit the ' +\n",
              "          '<a target=\"_blank\" href=https://colab.research.google.com/notebooks/data_table.ipynb>data table notebook</a>'\n",
              "          + ' to learn more about interactive tables.';\n",
              "        element.innerHTML = '';\n",
              "        dataTable['output_type'] = 'display_data';\n",
              "        await google.colab.output.renderOutput(dataTable, element);\n",
              "        const docLink = document.createElement('div');\n",
              "        docLink.innerHTML = docLinkHtml;\n",
              "        element.appendChild(docLink);\n",
              "      }\n",
              "    </script>\n",
              "  </div>\n",
              "\n",
              "\n",
              "<div id=\"df-47cebb10-1971-4ddf-99dc-d2daf3d1c7bf\">\n",
              "  <button class=\"colab-df-quickchart\" onclick=\"quickchart('df-47cebb10-1971-4ddf-99dc-d2daf3d1c7bf')\"\n",
              "            title=\"Suggest charts\"\n",
              "            style=\"display:none;\">\n",
              "\n",
              "<svg xmlns=\"http://www.w3.org/2000/svg\" height=\"24px\"viewBox=\"0 0 24 24\"\n",
              "     width=\"24px\">\n",
              "    <g>\n",
              "        <path d=\"M19 3H5c-1.1 0-2 .9-2 2v14c0 1.1.9 2 2 2h14c1.1 0 2-.9 2-2V5c0-1.1-.9-2-2-2zM9 17H7v-7h2v7zm4 0h-2V7h2v10zm4 0h-2v-4h2v4z\"/>\n",
              "    </g>\n",
              "</svg>\n",
              "  </button>\n",
              "\n",
              "<style>\n",
              "  .colab-df-quickchart {\n",
              "      --bg-color: #E8F0FE;\n",
              "      --fill-color: #1967D2;\n",
              "      --hover-bg-color: #E2EBFA;\n",
              "      --hover-fill-color: #174EA6;\n",
              "      --disabled-fill-color: #AAA;\n",
              "      --disabled-bg-color: #DDD;\n",
              "  }\n",
              "\n",
              "  [theme=dark] .colab-df-quickchart {\n",
              "      --bg-color: #3B4455;\n",
              "      --fill-color: #D2E3FC;\n",
              "      --hover-bg-color: #434B5C;\n",
              "      --hover-fill-color: #FFFFFF;\n",
              "      --disabled-bg-color: #3B4455;\n",
              "      --disabled-fill-color: #666;\n",
              "  }\n",
              "\n",
              "  .colab-df-quickchart {\n",
              "    background-color: var(--bg-color);\n",
              "    border: none;\n",
              "    border-radius: 50%;\n",
              "    cursor: pointer;\n",
              "    display: none;\n",
              "    fill: var(--fill-color);\n",
              "    height: 32px;\n",
              "    padding: 0;\n",
              "    width: 32px;\n",
              "  }\n",
              "\n",
              "  .colab-df-quickchart:hover {\n",
              "    background-color: var(--hover-bg-color);\n",
              "    box-shadow: 0 1px 2px rgba(60, 64, 67, 0.3), 0 1px 3px 1px rgba(60, 64, 67, 0.15);\n",
              "    fill: var(--button-hover-fill-color);\n",
              "  }\n",
              "\n",
              "  .colab-df-quickchart-complete:disabled,\n",
              "  .colab-df-quickchart-complete:disabled:hover {\n",
              "    background-color: var(--disabled-bg-color);\n",
              "    fill: var(--disabled-fill-color);\n",
              "    box-shadow: none;\n",
              "  }\n",
              "\n",
              "  .colab-df-spinner {\n",
              "    border: 2px solid var(--fill-color);\n",
              "    border-color: transparent;\n",
              "    border-bottom-color: var(--fill-color);\n",
              "    animation:\n",
              "      spin 1s steps(1) infinite;\n",
              "  }\n",
              "\n",
              "  @keyframes spin {\n",
              "    0% {\n",
              "      border-color: transparent;\n",
              "      border-bottom-color: var(--fill-color);\n",
              "      border-left-color: var(--fill-color);\n",
              "    }\n",
              "    20% {\n",
              "      border-color: transparent;\n",
              "      border-left-color: var(--fill-color);\n",
              "      border-top-color: var(--fill-color);\n",
              "    }\n",
              "    30% {\n",
              "      border-color: transparent;\n",
              "      border-left-color: var(--fill-color);\n",
              "      border-top-color: var(--fill-color);\n",
              "      border-right-color: var(--fill-color);\n",
              "    }\n",
              "    40% {\n",
              "      border-color: transparent;\n",
              "      border-right-color: var(--fill-color);\n",
              "      border-top-color: var(--fill-color);\n",
              "    }\n",
              "    60% {\n",
              "      border-color: transparent;\n",
              "      border-right-color: var(--fill-color);\n",
              "    }\n",
              "    80% {\n",
              "      border-color: transparent;\n",
              "      border-right-color: var(--fill-color);\n",
              "      border-bottom-color: var(--fill-color);\n",
              "    }\n",
              "    90% {\n",
              "      border-color: transparent;\n",
              "      border-bottom-color: var(--fill-color);\n",
              "    }\n",
              "  }\n",
              "</style>\n",
              "\n",
              "  <script>\n",
              "    async function quickchart(key) {\n",
              "      const quickchartButtonEl =\n",
              "        document.querySelector('#' + key + ' button');\n",
              "      quickchartButtonEl.disabled = true;  // To prevent multiple clicks.\n",
              "      quickchartButtonEl.classList.add('colab-df-spinner');\n",
              "      try {\n",
              "        const charts = await google.colab.kernel.invokeFunction(\n",
              "            'suggestCharts', [key], {});\n",
              "      } catch (error) {\n",
              "        console.error('Error during call to suggestCharts:', error);\n",
              "      }\n",
              "      quickchartButtonEl.classList.remove('colab-df-spinner');\n",
              "      quickchartButtonEl.classList.add('colab-df-quickchart-complete');\n",
              "    }\n",
              "    (() => {\n",
              "      let quickchartButtonEl =\n",
              "        document.querySelector('#df-47cebb10-1971-4ddf-99dc-d2daf3d1c7bf button');\n",
              "      quickchartButtonEl.style.display =\n",
              "        google.colab.kernel.accessAllowed ? 'block' : 'none';\n",
              "    })();\n",
              "  </script>\n",
              "</div>\n",
              "    </div>\n",
              "  </div>\n"
            ],
            "application/vnd.google.colaboratory.intrinsic+json": {
              "type": "dataframe",
              "variable_name": "df",
              "summary": "{\n  \"name\": \"df\",\n  \"rows\": 4269,\n  \"fields\": [\n    {\n      \"column\": \"loan_id\",\n      \"properties\": {\n        \"dtype\": \"number\",\n        \"std\": 1232,\n        \"min\": 1,\n        \"max\": 4269,\n        \"num_unique_values\": 4269,\n        \"samples\": [\n          1704,\n          1174,\n          309\n        ],\n        \"semantic_type\": \"\",\n        \"description\": \"\"\n      }\n    },\n    {\n      \"column\": \" no_of_dependents\",\n      \"properties\": {\n        \"dtype\": \"number\",\n        \"std\": 1,\n        \"min\": 0,\n        \"max\": 5,\n        \"num_unique_values\": 6,\n        \"samples\": [\n          2,\n          0,\n          1\n        ],\n        \"semantic_type\": \"\",\n        \"description\": \"\"\n      }\n    },\n    {\n      \"column\": \" education\",\n      \"properties\": {\n        \"dtype\": \"category\",\n        \"num_unique_values\": 2,\n        \"samples\": [\n          \" Not Graduate\",\n          \" Graduate\"\n        ],\n        \"semantic_type\": \"\",\n        \"description\": \"\"\n      }\n    },\n    {\n      \"column\": \" self_employed\",\n      \"properties\": {\n        \"dtype\": \"category\",\n        \"num_unique_values\": 2,\n        \"samples\": [\n          \" Yes\",\n          \" No\"\n        ],\n        \"semantic_type\": \"\",\n        \"description\": \"\"\n      }\n    },\n    {\n      \"column\": \" income_annum\",\n      \"properties\": {\n        \"dtype\": \"number\",\n        \"std\": 2806839,\n        \"min\": 200000,\n        \"max\": 9900000,\n        \"num_unique_values\": 98,\n        \"samples\": [\n          6200000,\n          9300000\n        ],\n        \"semantic_type\": \"\",\n        \"description\": \"\"\n      }\n    },\n    {\n      \"column\": \" loan_amount\",\n      \"properties\": {\n        \"dtype\": \"number\",\n        \"std\": 9043362,\n        \"min\": 300000,\n        \"max\": 39500000,\n        \"num_unique_values\": 378,\n        \"samples\": [\n          25800000,\n          26100000\n        ],\n        \"semantic_type\": \"\",\n        \"description\": \"\"\n      }\n    },\n    {\n      \"column\": \" loan_term\",\n      \"properties\": {\n        \"dtype\": \"number\",\n        \"std\": 5,\n        \"min\": 2,\n        \"max\": 20,\n        \"num_unique_values\": 10,\n        \"samples\": [\n          14,\n          8\n        ],\n        \"semantic_type\": \"\",\n        \"description\": \"\"\n      }\n    },\n    {\n      \"column\": \" cibil_score\",\n      \"properties\": {\n        \"dtype\": \"number\",\n        \"std\": 172,\n        \"min\": 300,\n        \"max\": 900,\n        \"num_unique_values\": 601,\n        \"samples\": [\n          859,\n          414\n        ],\n        \"semantic_type\": \"\",\n        \"description\": \"\"\n      }\n    },\n    {\n      \"column\": \" residential_assets_value\",\n      \"properties\": {\n        \"dtype\": \"number\",\n        \"std\": 6503636,\n        \"min\": -100000,\n        \"max\": 29100000,\n        \"num_unique_values\": 278,\n        \"samples\": [\n          700000,\n          3500000\n        ],\n        \"semantic_type\": \"\",\n        \"description\": \"\"\n      }\n    },\n    {\n      \"column\": \" commercial_assets_value\",\n      \"properties\": {\n        \"dtype\": \"number\",\n        \"std\": 4388966,\n        \"min\": 0,\n        \"max\": 19400000,\n        \"num_unique_values\": 188,\n        \"samples\": [\n          13500000,\n          14600000\n        ],\n        \"semantic_type\": \"\",\n        \"description\": \"\"\n      }\n    },\n    {\n      \"column\": \" luxury_assets_value\",\n      \"properties\": {\n        \"dtype\": \"number\",\n        \"std\": 9103753,\n        \"min\": 300000,\n        \"max\": 39200000,\n        \"num_unique_values\": 379,\n        \"samples\": [\n          15300000,\n          12100000\n        ],\n        \"semantic_type\": \"\",\n        \"description\": \"\"\n      }\n    },\n    {\n      \"column\": \" bank_asset_value\",\n      \"properties\": {\n        \"dtype\": \"number\",\n        \"std\": 3250185,\n        \"min\": 0,\n        \"max\": 14700000,\n        \"num_unique_values\": 146,\n        \"samples\": [\n          4800000,\n          14400000\n        ],\n        \"semantic_type\": \"\",\n        \"description\": \"\"\n      }\n    },\n    {\n      \"column\": \" loan_status\",\n      \"properties\": {\n        \"dtype\": \"category\",\n        \"num_unique_values\": 2,\n        \"samples\": [\n          \" Rejected\",\n          \" Approved\"\n        ],\n        \"semantic_type\": \"\",\n        \"description\": \"\"\n      }\n    }\n  ]\n}"
            }
          },
          "metadata": {},
          "execution_count": 2
        }
      ]
    },
    {
      "cell_type": "code",
      "source": [
        "df = df.drop([\"loan_id\"],axis=1) #Dropping unnecessary column (loan id) which has no relation of loan being approved.\n",
        "df.head() #checking after dropping"
      ],
      "metadata": {
        "colab": {
          "base_uri": "https://localhost:8080/",
          "height": 261
        },
        "id": "YLZeA4XK4lEH",
        "outputId": "8e9126d3-84b1-4433-a51f-7cd35c6313c6"
      },
      "execution_count": null,
      "outputs": [
        {
          "output_type": "execute_result",
          "data": {
            "text/plain": [
              "    no_of_dependents      education  self_employed   income_annum  \\\n",
              "0                  2       Graduate             No        9600000   \n",
              "1                  0   Not Graduate            Yes        4100000   \n",
              "2                  3       Graduate             No        9100000   \n",
              "3                  3       Graduate             No        8200000   \n",
              "4                  5   Not Graduate            Yes        9800000   \n",
              "\n",
              "    loan_amount   loan_term   cibil_score   residential_assets_value  \\\n",
              "0      29900000          12           778                    2400000   \n",
              "1      12200000           8           417                    2700000   \n",
              "2      29700000          20           506                    7100000   \n",
              "3      30700000           8           467                   18200000   \n",
              "4      24200000          20           382                   12400000   \n",
              "\n",
              "    commercial_assets_value   luxury_assets_value   bank_asset_value  \\\n",
              "0                  17600000              22700000            8000000   \n",
              "1                   2200000               8800000            3300000   \n",
              "2                   4500000              33300000           12800000   \n",
              "3                   3300000              23300000            7900000   \n",
              "4                   8200000              29400000            5000000   \n",
              "\n",
              "   loan_status  \n",
              "0     Approved  \n",
              "1     Rejected  \n",
              "2     Rejected  \n",
              "3     Rejected  \n",
              "4     Rejected  "
            ],
            "text/html": [
              "\n",
              "  <div id=\"df-0c9314ea-e9bb-49fc-8511-708f70ef91ca\" class=\"colab-df-container\">\n",
              "    <div>\n",
              "<style scoped>\n",
              "    .dataframe tbody tr th:only-of-type {\n",
              "        vertical-align: middle;\n",
              "    }\n",
              "\n",
              "    .dataframe tbody tr th {\n",
              "        vertical-align: top;\n",
              "    }\n",
              "\n",
              "    .dataframe thead th {\n",
              "        text-align: right;\n",
              "    }\n",
              "</style>\n",
              "<table border=\"1\" class=\"dataframe\">\n",
              "  <thead>\n",
              "    <tr style=\"text-align: right;\">\n",
              "      <th></th>\n",
              "      <th>no_of_dependents</th>\n",
              "      <th>education</th>\n",
              "      <th>self_employed</th>\n",
              "      <th>income_annum</th>\n",
              "      <th>loan_amount</th>\n",
              "      <th>loan_term</th>\n",
              "      <th>cibil_score</th>\n",
              "      <th>residential_assets_value</th>\n",
              "      <th>commercial_assets_value</th>\n",
              "      <th>luxury_assets_value</th>\n",
              "      <th>bank_asset_value</th>\n",
              "      <th>loan_status</th>\n",
              "    </tr>\n",
              "  </thead>\n",
              "  <tbody>\n",
              "    <tr>\n",
              "      <th>0</th>\n",
              "      <td>2</td>\n",
              "      <td>Graduate</td>\n",
              "      <td>No</td>\n",
              "      <td>9600000</td>\n",
              "      <td>29900000</td>\n",
              "      <td>12</td>\n",
              "      <td>778</td>\n",
              "      <td>2400000</td>\n",
              "      <td>17600000</td>\n",
              "      <td>22700000</td>\n",
              "      <td>8000000</td>\n",
              "      <td>Approved</td>\n",
              "    </tr>\n",
              "    <tr>\n",
              "      <th>1</th>\n",
              "      <td>0</td>\n",
              "      <td>Not Graduate</td>\n",
              "      <td>Yes</td>\n",
              "      <td>4100000</td>\n",
              "      <td>12200000</td>\n",
              "      <td>8</td>\n",
              "      <td>417</td>\n",
              "      <td>2700000</td>\n",
              "      <td>2200000</td>\n",
              "      <td>8800000</td>\n",
              "      <td>3300000</td>\n",
              "      <td>Rejected</td>\n",
              "    </tr>\n",
              "    <tr>\n",
              "      <th>2</th>\n",
              "      <td>3</td>\n",
              "      <td>Graduate</td>\n",
              "      <td>No</td>\n",
              "      <td>9100000</td>\n",
              "      <td>29700000</td>\n",
              "      <td>20</td>\n",
              "      <td>506</td>\n",
              "      <td>7100000</td>\n",
              "      <td>4500000</td>\n",
              "      <td>33300000</td>\n",
              "      <td>12800000</td>\n",
              "      <td>Rejected</td>\n",
              "    </tr>\n",
              "    <tr>\n",
              "      <th>3</th>\n",
              "      <td>3</td>\n",
              "      <td>Graduate</td>\n",
              "      <td>No</td>\n",
              "      <td>8200000</td>\n",
              "      <td>30700000</td>\n",
              "      <td>8</td>\n",
              "      <td>467</td>\n",
              "      <td>18200000</td>\n",
              "      <td>3300000</td>\n",
              "      <td>23300000</td>\n",
              "      <td>7900000</td>\n",
              "      <td>Rejected</td>\n",
              "    </tr>\n",
              "    <tr>\n",
              "      <th>4</th>\n",
              "      <td>5</td>\n",
              "      <td>Not Graduate</td>\n",
              "      <td>Yes</td>\n",
              "      <td>9800000</td>\n",
              "      <td>24200000</td>\n",
              "      <td>20</td>\n",
              "      <td>382</td>\n",
              "      <td>12400000</td>\n",
              "      <td>8200000</td>\n",
              "      <td>29400000</td>\n",
              "      <td>5000000</td>\n",
              "      <td>Rejected</td>\n",
              "    </tr>\n",
              "  </tbody>\n",
              "</table>\n",
              "</div>\n",
              "    <div class=\"colab-df-buttons\">\n",
              "\n",
              "  <div class=\"colab-df-container\">\n",
              "    <button class=\"colab-df-convert\" onclick=\"convertToInteractive('df-0c9314ea-e9bb-49fc-8511-708f70ef91ca')\"\n",
              "            title=\"Convert this dataframe to an interactive table.\"\n",
              "            style=\"display:none;\">\n",
              "\n",
              "  <svg xmlns=\"http://www.w3.org/2000/svg\" height=\"24px\" viewBox=\"0 -960 960 960\">\n",
              "    <path d=\"M120-120v-720h720v720H120Zm60-500h600v-160H180v160Zm220 220h160v-160H400v160Zm0 220h160v-160H400v160ZM180-400h160v-160H180v160Zm440 0h160v-160H620v160ZM180-180h160v-160H180v160Zm440 0h160v-160H620v160Z\"/>\n",
              "  </svg>\n",
              "    </button>\n",
              "\n",
              "  <style>\n",
              "    .colab-df-container {\n",
              "      display:flex;\n",
              "      gap: 12px;\n",
              "    }\n",
              "\n",
              "    .colab-df-convert {\n",
              "      background-color: #E8F0FE;\n",
              "      border: none;\n",
              "      border-radius: 50%;\n",
              "      cursor: pointer;\n",
              "      display: none;\n",
              "      fill: #1967D2;\n",
              "      height: 32px;\n",
              "      padding: 0 0 0 0;\n",
              "      width: 32px;\n",
              "    }\n",
              "\n",
              "    .colab-df-convert:hover {\n",
              "      background-color: #E2EBFA;\n",
              "      box-shadow: 0px 1px 2px rgba(60, 64, 67, 0.3), 0px 1px 3px 1px rgba(60, 64, 67, 0.15);\n",
              "      fill: #174EA6;\n",
              "    }\n",
              "\n",
              "    .colab-df-buttons div {\n",
              "      margin-bottom: 4px;\n",
              "    }\n",
              "\n",
              "    [theme=dark] .colab-df-convert {\n",
              "      background-color: #3B4455;\n",
              "      fill: #D2E3FC;\n",
              "    }\n",
              "\n",
              "    [theme=dark] .colab-df-convert:hover {\n",
              "      background-color: #434B5C;\n",
              "      box-shadow: 0px 1px 3px 1px rgba(0, 0, 0, 0.15);\n",
              "      filter: drop-shadow(0px 1px 2px rgba(0, 0, 0, 0.3));\n",
              "      fill: #FFFFFF;\n",
              "    }\n",
              "  </style>\n",
              "\n",
              "    <script>\n",
              "      const buttonEl =\n",
              "        document.querySelector('#df-0c9314ea-e9bb-49fc-8511-708f70ef91ca button.colab-df-convert');\n",
              "      buttonEl.style.display =\n",
              "        google.colab.kernel.accessAllowed ? 'block' : 'none';\n",
              "\n",
              "      async function convertToInteractive(key) {\n",
              "        const element = document.querySelector('#df-0c9314ea-e9bb-49fc-8511-708f70ef91ca');\n",
              "        const dataTable =\n",
              "          await google.colab.kernel.invokeFunction('convertToInteractive',\n",
              "                                                    [key], {});\n",
              "        if (!dataTable) return;\n",
              "\n",
              "        const docLinkHtml = 'Like what you see? Visit the ' +\n",
              "          '<a target=\"_blank\" href=https://colab.research.google.com/notebooks/data_table.ipynb>data table notebook</a>'\n",
              "          + ' to learn more about interactive tables.';\n",
              "        element.innerHTML = '';\n",
              "        dataTable['output_type'] = 'display_data';\n",
              "        await google.colab.output.renderOutput(dataTable, element);\n",
              "        const docLink = document.createElement('div');\n",
              "        docLink.innerHTML = docLinkHtml;\n",
              "        element.appendChild(docLink);\n",
              "      }\n",
              "    </script>\n",
              "  </div>\n",
              "\n",
              "\n",
              "<div id=\"df-fcfa01cb-373c-4eb3-8f4a-5aaa397828d8\">\n",
              "  <button class=\"colab-df-quickchart\" onclick=\"quickchart('df-fcfa01cb-373c-4eb3-8f4a-5aaa397828d8')\"\n",
              "            title=\"Suggest charts\"\n",
              "            style=\"display:none;\">\n",
              "\n",
              "<svg xmlns=\"http://www.w3.org/2000/svg\" height=\"24px\"viewBox=\"0 0 24 24\"\n",
              "     width=\"24px\">\n",
              "    <g>\n",
              "        <path d=\"M19 3H5c-1.1 0-2 .9-2 2v14c0 1.1.9 2 2 2h14c1.1 0 2-.9 2-2V5c0-1.1-.9-2-2-2zM9 17H7v-7h2v7zm4 0h-2V7h2v10zm4 0h-2v-4h2v4z\"/>\n",
              "    </g>\n",
              "</svg>\n",
              "  </button>\n",
              "\n",
              "<style>\n",
              "  .colab-df-quickchart {\n",
              "      --bg-color: #E8F0FE;\n",
              "      --fill-color: #1967D2;\n",
              "      --hover-bg-color: #E2EBFA;\n",
              "      --hover-fill-color: #174EA6;\n",
              "      --disabled-fill-color: #AAA;\n",
              "      --disabled-bg-color: #DDD;\n",
              "  }\n",
              "\n",
              "  [theme=dark] .colab-df-quickchart {\n",
              "      --bg-color: #3B4455;\n",
              "      --fill-color: #D2E3FC;\n",
              "      --hover-bg-color: #434B5C;\n",
              "      --hover-fill-color: #FFFFFF;\n",
              "      --disabled-bg-color: #3B4455;\n",
              "      --disabled-fill-color: #666;\n",
              "  }\n",
              "\n",
              "  .colab-df-quickchart {\n",
              "    background-color: var(--bg-color);\n",
              "    border: none;\n",
              "    border-radius: 50%;\n",
              "    cursor: pointer;\n",
              "    display: none;\n",
              "    fill: var(--fill-color);\n",
              "    height: 32px;\n",
              "    padding: 0;\n",
              "    width: 32px;\n",
              "  }\n",
              "\n",
              "  .colab-df-quickchart:hover {\n",
              "    background-color: var(--hover-bg-color);\n",
              "    box-shadow: 0 1px 2px rgba(60, 64, 67, 0.3), 0 1px 3px 1px rgba(60, 64, 67, 0.15);\n",
              "    fill: var(--button-hover-fill-color);\n",
              "  }\n",
              "\n",
              "  .colab-df-quickchart-complete:disabled,\n",
              "  .colab-df-quickchart-complete:disabled:hover {\n",
              "    background-color: var(--disabled-bg-color);\n",
              "    fill: var(--disabled-fill-color);\n",
              "    box-shadow: none;\n",
              "  }\n",
              "\n",
              "  .colab-df-spinner {\n",
              "    border: 2px solid var(--fill-color);\n",
              "    border-color: transparent;\n",
              "    border-bottom-color: var(--fill-color);\n",
              "    animation:\n",
              "      spin 1s steps(1) infinite;\n",
              "  }\n",
              "\n",
              "  @keyframes spin {\n",
              "    0% {\n",
              "      border-color: transparent;\n",
              "      border-bottom-color: var(--fill-color);\n",
              "      border-left-color: var(--fill-color);\n",
              "    }\n",
              "    20% {\n",
              "      border-color: transparent;\n",
              "      border-left-color: var(--fill-color);\n",
              "      border-top-color: var(--fill-color);\n",
              "    }\n",
              "    30% {\n",
              "      border-color: transparent;\n",
              "      border-left-color: var(--fill-color);\n",
              "      border-top-color: var(--fill-color);\n",
              "      border-right-color: var(--fill-color);\n",
              "    }\n",
              "    40% {\n",
              "      border-color: transparent;\n",
              "      border-right-color: var(--fill-color);\n",
              "      border-top-color: var(--fill-color);\n",
              "    }\n",
              "    60% {\n",
              "      border-color: transparent;\n",
              "      border-right-color: var(--fill-color);\n",
              "    }\n",
              "    80% {\n",
              "      border-color: transparent;\n",
              "      border-right-color: var(--fill-color);\n",
              "      border-bottom-color: var(--fill-color);\n",
              "    }\n",
              "    90% {\n",
              "      border-color: transparent;\n",
              "      border-bottom-color: var(--fill-color);\n",
              "    }\n",
              "  }\n",
              "</style>\n",
              "\n",
              "  <script>\n",
              "    async function quickchart(key) {\n",
              "      const quickchartButtonEl =\n",
              "        document.querySelector('#' + key + ' button');\n",
              "      quickchartButtonEl.disabled = true;  // To prevent multiple clicks.\n",
              "      quickchartButtonEl.classList.add('colab-df-spinner');\n",
              "      try {\n",
              "        const charts = await google.colab.kernel.invokeFunction(\n",
              "            'suggestCharts', [key], {});\n",
              "      } catch (error) {\n",
              "        console.error('Error during call to suggestCharts:', error);\n",
              "      }\n",
              "      quickchartButtonEl.classList.remove('colab-df-spinner');\n",
              "      quickchartButtonEl.classList.add('colab-df-quickchart-complete');\n",
              "    }\n",
              "    (() => {\n",
              "      let quickchartButtonEl =\n",
              "        document.querySelector('#df-fcfa01cb-373c-4eb3-8f4a-5aaa397828d8 button');\n",
              "      quickchartButtonEl.style.display =\n",
              "        google.colab.kernel.accessAllowed ? 'block' : 'none';\n",
              "    })();\n",
              "  </script>\n",
              "</div>\n",
              "    </div>\n",
              "  </div>\n"
            ],
            "application/vnd.google.colaboratory.intrinsic+json": {
              "type": "dataframe",
              "variable_name": "df",
              "summary": "{\n  \"name\": \"df\",\n  \"rows\": 4269,\n  \"fields\": [\n    {\n      \"column\": \" no_of_dependents\",\n      \"properties\": {\n        \"dtype\": \"number\",\n        \"std\": 1,\n        \"min\": 0,\n        \"max\": 5,\n        \"num_unique_values\": 6,\n        \"samples\": [\n          2,\n          0,\n          1\n        ],\n        \"semantic_type\": \"\",\n        \"description\": \"\"\n      }\n    },\n    {\n      \"column\": \" education\",\n      \"properties\": {\n        \"dtype\": \"category\",\n        \"num_unique_values\": 2,\n        \"samples\": [\n          \" Not Graduate\",\n          \" Graduate\"\n        ],\n        \"semantic_type\": \"\",\n        \"description\": \"\"\n      }\n    },\n    {\n      \"column\": \" self_employed\",\n      \"properties\": {\n        \"dtype\": \"category\",\n        \"num_unique_values\": 2,\n        \"samples\": [\n          \" Yes\",\n          \" No\"\n        ],\n        \"semantic_type\": \"\",\n        \"description\": \"\"\n      }\n    },\n    {\n      \"column\": \" income_annum\",\n      \"properties\": {\n        \"dtype\": \"number\",\n        \"std\": 2806839,\n        \"min\": 200000,\n        \"max\": 9900000,\n        \"num_unique_values\": 98,\n        \"samples\": [\n          6200000,\n          9300000\n        ],\n        \"semantic_type\": \"\",\n        \"description\": \"\"\n      }\n    },\n    {\n      \"column\": \" loan_amount\",\n      \"properties\": {\n        \"dtype\": \"number\",\n        \"std\": 9043362,\n        \"min\": 300000,\n        \"max\": 39500000,\n        \"num_unique_values\": 378,\n        \"samples\": [\n          25800000,\n          26100000\n        ],\n        \"semantic_type\": \"\",\n        \"description\": \"\"\n      }\n    },\n    {\n      \"column\": \" loan_term\",\n      \"properties\": {\n        \"dtype\": \"number\",\n        \"std\": 5,\n        \"min\": 2,\n        \"max\": 20,\n        \"num_unique_values\": 10,\n        \"samples\": [\n          14,\n          8\n        ],\n        \"semantic_type\": \"\",\n        \"description\": \"\"\n      }\n    },\n    {\n      \"column\": \" cibil_score\",\n      \"properties\": {\n        \"dtype\": \"number\",\n        \"std\": 172,\n        \"min\": 300,\n        \"max\": 900,\n        \"num_unique_values\": 601,\n        \"samples\": [\n          859,\n          414\n        ],\n        \"semantic_type\": \"\",\n        \"description\": \"\"\n      }\n    },\n    {\n      \"column\": \" residential_assets_value\",\n      \"properties\": {\n        \"dtype\": \"number\",\n        \"std\": 6503636,\n        \"min\": -100000,\n        \"max\": 29100000,\n        \"num_unique_values\": 278,\n        \"samples\": [\n          700000,\n          3500000\n        ],\n        \"semantic_type\": \"\",\n        \"description\": \"\"\n      }\n    },\n    {\n      \"column\": \" commercial_assets_value\",\n      \"properties\": {\n        \"dtype\": \"number\",\n        \"std\": 4388966,\n        \"min\": 0,\n        \"max\": 19400000,\n        \"num_unique_values\": 188,\n        \"samples\": [\n          13500000,\n          14600000\n        ],\n        \"semantic_type\": \"\",\n        \"description\": \"\"\n      }\n    },\n    {\n      \"column\": \" luxury_assets_value\",\n      \"properties\": {\n        \"dtype\": \"number\",\n        \"std\": 9103753,\n        \"min\": 300000,\n        \"max\": 39200000,\n        \"num_unique_values\": 379,\n        \"samples\": [\n          15300000,\n          12100000\n        ],\n        \"semantic_type\": \"\",\n        \"description\": \"\"\n      }\n    },\n    {\n      \"column\": \" bank_asset_value\",\n      \"properties\": {\n        \"dtype\": \"number\",\n        \"std\": 3250185,\n        \"min\": 0,\n        \"max\": 14700000,\n        \"num_unique_values\": 146,\n        \"samples\": [\n          4800000,\n          14400000\n        ],\n        \"semantic_type\": \"\",\n        \"description\": \"\"\n      }\n    },\n    {\n      \"column\": \" loan_status\",\n      \"properties\": {\n        \"dtype\": \"category\",\n        \"num_unique_values\": 2,\n        \"samples\": [\n          \" Rejected\",\n          \" Approved\"\n        ],\n        \"semantic_type\": \"\",\n        \"description\": \"\"\n      }\n    }\n  ]\n}"
            }
          },
          "metadata": {},
          "execution_count": 3
        }
      ]
    },
    {
      "cell_type": "code",
      "source": [
        "df.shape #check the rows and columns of the dataset"
      ],
      "metadata": {
        "colab": {
          "base_uri": "https://localhost:8080/"
        },
        "id": "hYTni8Gu4myP",
        "outputId": "94f87806-c799-4463-d621-039a6dad983c"
      },
      "execution_count": null,
      "outputs": [
        {
          "output_type": "execute_result",
          "data": {
            "text/plain": [
              "(4269, 12)"
            ]
          },
          "metadata": {},
          "execution_count": 4
        }
      ]
    },
    {
      "cell_type": "code",
      "source": [
        "df.info() #check informaion like non null count and data type of the dataset"
      ],
      "metadata": {
        "colab": {
          "base_uri": "https://localhost:8080/"
        },
        "id": "m3-dEB174oO_",
        "outputId": "9002bd64-004c-42fe-d25a-0f619b0ca302"
      },
      "execution_count": null,
      "outputs": [
        {
          "output_type": "stream",
          "name": "stdout",
          "text": [
            "<class 'pandas.core.frame.DataFrame'>\n",
            "RangeIndex: 4269 entries, 0 to 4268\n",
            "Data columns (total 12 columns):\n",
            " #   Column                     Non-Null Count  Dtype \n",
            "---  ------                     --------------  ----- \n",
            " 0    no_of_dependents          4269 non-null   int64 \n",
            " 1    education                 4269 non-null   object\n",
            " 2    self_employed             4269 non-null   object\n",
            " 3    income_annum              4269 non-null   int64 \n",
            " 4    loan_amount               4269 non-null   int64 \n",
            " 5    loan_term                 4269 non-null   int64 \n",
            " 6    cibil_score               4269 non-null   int64 \n",
            " 7    residential_assets_value  4269 non-null   int64 \n",
            " 8    commercial_assets_value   4269 non-null   int64 \n",
            " 9    luxury_assets_value       4269 non-null   int64 \n",
            " 10   bank_asset_value          4269 non-null   int64 \n",
            " 11   loan_status               4269 non-null   object\n",
            "dtypes: int64(9), object(3)\n",
            "memory usage: 400.3+ KB\n"
          ]
        }
      ]
    },
    {
      "cell_type": "code",
      "source": [
        "df.isnull().sum() #check if any dataset contains null values"
      ],
      "metadata": {
        "colab": {
          "base_uri": "https://localhost:8080/"
        },
        "id": "ONDxQdf5At9V",
        "outputId": "1f290594-ed57-4da3-b286-a52eede6a887"
      },
      "execution_count": null,
      "outputs": [
        {
          "output_type": "execute_result",
          "data": {
            "text/plain": [
              " no_of_dependents            0\n",
              " education                   0\n",
              " self_employed               0\n",
              " income_annum                0\n",
              " loan_amount                 0\n",
              " loan_term                   0\n",
              " cibil_score                 0\n",
              " residential_assets_value    0\n",
              " commercial_assets_value     0\n",
              " luxury_assets_value         0\n",
              " bank_asset_value            0\n",
              " loan_status                 0\n",
              "dtype: int64"
            ]
          },
          "metadata": {},
          "execution_count": 6
        }
      ]
    },
    {
      "cell_type": "code",
      "source": [
        "from sklearn.preprocessing import LabelEncoder\n",
        "le = LabelEncoder()\n",
        "\n",
        "#fiting and transforming data for training (converting eduction, employement approved data into integer64)\n",
        "df[\" education\"] = le.fit_transform(df[\" education\"])\n",
        "df[\" self_employed\"] = le.fit_transform(df[\" self_employed\"])\n",
        "df[\" loan_status\"] = le.fit_transform(df[\" loan_status\"])"
      ],
      "metadata": {
        "id": "bpculTfA4qMH"
      },
      "execution_count": null,
      "outputs": []
    },
    {
      "cell_type": "code",
      "source": [
        "df.head() #checking after fitting and transforming"
      ],
      "metadata": {
        "colab": {
          "base_uri": "https://localhost:8080/",
          "height": 226
        },
        "id": "If3j90AB4r3f",
        "outputId": "cfad82e4-82ac-4eb4-e4a6-6a298d414a4e"
      },
      "execution_count": null,
      "outputs": [
        {
          "output_type": "execute_result",
          "data": {
            "text/plain": [
              "    no_of_dependents   education   self_employed   income_annum   loan_amount  \\\n",
              "0                  2           0               0        9600000      29900000   \n",
              "1                  0           1               1        4100000      12200000   \n",
              "2                  3           0               0        9100000      29700000   \n",
              "3                  3           0               0        8200000      30700000   \n",
              "4                  5           1               1        9800000      24200000   \n",
              "\n",
              "    loan_term   cibil_score   residential_assets_value  \\\n",
              "0          12           778                    2400000   \n",
              "1           8           417                    2700000   \n",
              "2          20           506                    7100000   \n",
              "3           8           467                   18200000   \n",
              "4          20           382                   12400000   \n",
              "\n",
              "    commercial_assets_value   luxury_assets_value   bank_asset_value  \\\n",
              "0                  17600000              22700000            8000000   \n",
              "1                   2200000               8800000            3300000   \n",
              "2                   4500000              33300000           12800000   \n",
              "3                   3300000              23300000            7900000   \n",
              "4                   8200000              29400000            5000000   \n",
              "\n",
              "    loan_status  \n",
              "0             0  \n",
              "1             1  \n",
              "2             1  \n",
              "3             1  \n",
              "4             1  "
            ],
            "text/html": [
              "\n",
              "  <div id=\"df-94f16b4c-1e00-4c81-98cd-798bcb9da170\" class=\"colab-df-container\">\n",
              "    <div>\n",
              "<style scoped>\n",
              "    .dataframe tbody tr th:only-of-type {\n",
              "        vertical-align: middle;\n",
              "    }\n",
              "\n",
              "    .dataframe tbody tr th {\n",
              "        vertical-align: top;\n",
              "    }\n",
              "\n",
              "    .dataframe thead th {\n",
              "        text-align: right;\n",
              "    }\n",
              "</style>\n",
              "<table border=\"1\" class=\"dataframe\">\n",
              "  <thead>\n",
              "    <tr style=\"text-align: right;\">\n",
              "      <th></th>\n",
              "      <th>no_of_dependents</th>\n",
              "      <th>education</th>\n",
              "      <th>self_employed</th>\n",
              "      <th>income_annum</th>\n",
              "      <th>loan_amount</th>\n",
              "      <th>loan_term</th>\n",
              "      <th>cibil_score</th>\n",
              "      <th>residential_assets_value</th>\n",
              "      <th>commercial_assets_value</th>\n",
              "      <th>luxury_assets_value</th>\n",
              "      <th>bank_asset_value</th>\n",
              "      <th>loan_status</th>\n",
              "    </tr>\n",
              "  </thead>\n",
              "  <tbody>\n",
              "    <tr>\n",
              "      <th>0</th>\n",
              "      <td>2</td>\n",
              "      <td>0</td>\n",
              "      <td>0</td>\n",
              "      <td>9600000</td>\n",
              "      <td>29900000</td>\n",
              "      <td>12</td>\n",
              "      <td>778</td>\n",
              "      <td>2400000</td>\n",
              "      <td>17600000</td>\n",
              "      <td>22700000</td>\n",
              "      <td>8000000</td>\n",
              "      <td>0</td>\n",
              "    </tr>\n",
              "    <tr>\n",
              "      <th>1</th>\n",
              "      <td>0</td>\n",
              "      <td>1</td>\n",
              "      <td>1</td>\n",
              "      <td>4100000</td>\n",
              "      <td>12200000</td>\n",
              "      <td>8</td>\n",
              "      <td>417</td>\n",
              "      <td>2700000</td>\n",
              "      <td>2200000</td>\n",
              "      <td>8800000</td>\n",
              "      <td>3300000</td>\n",
              "      <td>1</td>\n",
              "    </tr>\n",
              "    <tr>\n",
              "      <th>2</th>\n",
              "      <td>3</td>\n",
              "      <td>0</td>\n",
              "      <td>0</td>\n",
              "      <td>9100000</td>\n",
              "      <td>29700000</td>\n",
              "      <td>20</td>\n",
              "      <td>506</td>\n",
              "      <td>7100000</td>\n",
              "      <td>4500000</td>\n",
              "      <td>33300000</td>\n",
              "      <td>12800000</td>\n",
              "      <td>1</td>\n",
              "    </tr>\n",
              "    <tr>\n",
              "      <th>3</th>\n",
              "      <td>3</td>\n",
              "      <td>0</td>\n",
              "      <td>0</td>\n",
              "      <td>8200000</td>\n",
              "      <td>30700000</td>\n",
              "      <td>8</td>\n",
              "      <td>467</td>\n",
              "      <td>18200000</td>\n",
              "      <td>3300000</td>\n",
              "      <td>23300000</td>\n",
              "      <td>7900000</td>\n",
              "      <td>1</td>\n",
              "    </tr>\n",
              "    <tr>\n",
              "      <th>4</th>\n",
              "      <td>5</td>\n",
              "      <td>1</td>\n",
              "      <td>1</td>\n",
              "      <td>9800000</td>\n",
              "      <td>24200000</td>\n",
              "      <td>20</td>\n",
              "      <td>382</td>\n",
              "      <td>12400000</td>\n",
              "      <td>8200000</td>\n",
              "      <td>29400000</td>\n",
              "      <td>5000000</td>\n",
              "      <td>1</td>\n",
              "    </tr>\n",
              "  </tbody>\n",
              "</table>\n",
              "</div>\n",
              "    <div class=\"colab-df-buttons\">\n",
              "\n",
              "  <div class=\"colab-df-container\">\n",
              "    <button class=\"colab-df-convert\" onclick=\"convertToInteractive('df-94f16b4c-1e00-4c81-98cd-798bcb9da170')\"\n",
              "            title=\"Convert this dataframe to an interactive table.\"\n",
              "            style=\"display:none;\">\n",
              "\n",
              "  <svg xmlns=\"http://www.w3.org/2000/svg\" height=\"24px\" viewBox=\"0 -960 960 960\">\n",
              "    <path d=\"M120-120v-720h720v720H120Zm60-500h600v-160H180v160Zm220 220h160v-160H400v160Zm0 220h160v-160H400v160ZM180-400h160v-160H180v160Zm440 0h160v-160H620v160ZM180-180h160v-160H180v160Zm440 0h160v-160H620v160Z\"/>\n",
              "  </svg>\n",
              "    </button>\n",
              "\n",
              "  <style>\n",
              "    .colab-df-container {\n",
              "      display:flex;\n",
              "      gap: 12px;\n",
              "    }\n",
              "\n",
              "    .colab-df-convert {\n",
              "      background-color: #E8F0FE;\n",
              "      border: none;\n",
              "      border-radius: 50%;\n",
              "      cursor: pointer;\n",
              "      display: none;\n",
              "      fill: #1967D2;\n",
              "      height: 32px;\n",
              "      padding: 0 0 0 0;\n",
              "      width: 32px;\n",
              "    }\n",
              "\n",
              "    .colab-df-convert:hover {\n",
              "      background-color: #E2EBFA;\n",
              "      box-shadow: 0px 1px 2px rgba(60, 64, 67, 0.3), 0px 1px 3px 1px rgba(60, 64, 67, 0.15);\n",
              "      fill: #174EA6;\n",
              "    }\n",
              "\n",
              "    .colab-df-buttons div {\n",
              "      margin-bottom: 4px;\n",
              "    }\n",
              "\n",
              "    [theme=dark] .colab-df-convert {\n",
              "      background-color: #3B4455;\n",
              "      fill: #D2E3FC;\n",
              "    }\n",
              "\n",
              "    [theme=dark] .colab-df-convert:hover {\n",
              "      background-color: #434B5C;\n",
              "      box-shadow: 0px 1px 3px 1px rgba(0, 0, 0, 0.15);\n",
              "      filter: drop-shadow(0px 1px 2px rgba(0, 0, 0, 0.3));\n",
              "      fill: #FFFFFF;\n",
              "    }\n",
              "  </style>\n",
              "\n",
              "    <script>\n",
              "      const buttonEl =\n",
              "        document.querySelector('#df-94f16b4c-1e00-4c81-98cd-798bcb9da170 button.colab-df-convert');\n",
              "      buttonEl.style.display =\n",
              "        google.colab.kernel.accessAllowed ? 'block' : 'none';\n",
              "\n",
              "      async function convertToInteractive(key) {\n",
              "        const element = document.querySelector('#df-94f16b4c-1e00-4c81-98cd-798bcb9da170');\n",
              "        const dataTable =\n",
              "          await google.colab.kernel.invokeFunction('convertToInteractive',\n",
              "                                                    [key], {});\n",
              "        if (!dataTable) return;\n",
              "\n",
              "        const docLinkHtml = 'Like what you see? Visit the ' +\n",
              "          '<a target=\"_blank\" href=https://colab.research.google.com/notebooks/data_table.ipynb>data table notebook</a>'\n",
              "          + ' to learn more about interactive tables.';\n",
              "        element.innerHTML = '';\n",
              "        dataTable['output_type'] = 'display_data';\n",
              "        await google.colab.output.renderOutput(dataTable, element);\n",
              "        const docLink = document.createElement('div');\n",
              "        docLink.innerHTML = docLinkHtml;\n",
              "        element.appendChild(docLink);\n",
              "      }\n",
              "    </script>\n",
              "  </div>\n",
              "\n",
              "\n",
              "<div id=\"df-629835b6-6df2-4375-a765-28ed821d5577\">\n",
              "  <button class=\"colab-df-quickchart\" onclick=\"quickchart('df-629835b6-6df2-4375-a765-28ed821d5577')\"\n",
              "            title=\"Suggest charts\"\n",
              "            style=\"display:none;\">\n",
              "\n",
              "<svg xmlns=\"http://www.w3.org/2000/svg\" height=\"24px\"viewBox=\"0 0 24 24\"\n",
              "     width=\"24px\">\n",
              "    <g>\n",
              "        <path d=\"M19 3H5c-1.1 0-2 .9-2 2v14c0 1.1.9 2 2 2h14c1.1 0 2-.9 2-2V5c0-1.1-.9-2-2-2zM9 17H7v-7h2v7zm4 0h-2V7h2v10zm4 0h-2v-4h2v4z\"/>\n",
              "    </g>\n",
              "</svg>\n",
              "  </button>\n",
              "\n",
              "<style>\n",
              "  .colab-df-quickchart {\n",
              "      --bg-color: #E8F0FE;\n",
              "      --fill-color: #1967D2;\n",
              "      --hover-bg-color: #E2EBFA;\n",
              "      --hover-fill-color: #174EA6;\n",
              "      --disabled-fill-color: #AAA;\n",
              "      --disabled-bg-color: #DDD;\n",
              "  }\n",
              "\n",
              "  [theme=dark] .colab-df-quickchart {\n",
              "      --bg-color: #3B4455;\n",
              "      --fill-color: #D2E3FC;\n",
              "      --hover-bg-color: #434B5C;\n",
              "      --hover-fill-color: #FFFFFF;\n",
              "      --disabled-bg-color: #3B4455;\n",
              "      --disabled-fill-color: #666;\n",
              "  }\n",
              "\n",
              "  .colab-df-quickchart {\n",
              "    background-color: var(--bg-color);\n",
              "    border: none;\n",
              "    border-radius: 50%;\n",
              "    cursor: pointer;\n",
              "    display: none;\n",
              "    fill: var(--fill-color);\n",
              "    height: 32px;\n",
              "    padding: 0;\n",
              "    width: 32px;\n",
              "  }\n",
              "\n",
              "  .colab-df-quickchart:hover {\n",
              "    background-color: var(--hover-bg-color);\n",
              "    box-shadow: 0 1px 2px rgba(60, 64, 67, 0.3), 0 1px 3px 1px rgba(60, 64, 67, 0.15);\n",
              "    fill: var(--button-hover-fill-color);\n",
              "  }\n",
              "\n",
              "  .colab-df-quickchart-complete:disabled,\n",
              "  .colab-df-quickchart-complete:disabled:hover {\n",
              "    background-color: var(--disabled-bg-color);\n",
              "    fill: var(--disabled-fill-color);\n",
              "    box-shadow: none;\n",
              "  }\n",
              "\n",
              "  .colab-df-spinner {\n",
              "    border: 2px solid var(--fill-color);\n",
              "    border-color: transparent;\n",
              "    border-bottom-color: var(--fill-color);\n",
              "    animation:\n",
              "      spin 1s steps(1) infinite;\n",
              "  }\n",
              "\n",
              "  @keyframes spin {\n",
              "    0% {\n",
              "      border-color: transparent;\n",
              "      border-bottom-color: var(--fill-color);\n",
              "      border-left-color: var(--fill-color);\n",
              "    }\n",
              "    20% {\n",
              "      border-color: transparent;\n",
              "      border-left-color: var(--fill-color);\n",
              "      border-top-color: var(--fill-color);\n",
              "    }\n",
              "    30% {\n",
              "      border-color: transparent;\n",
              "      border-left-color: var(--fill-color);\n",
              "      border-top-color: var(--fill-color);\n",
              "      border-right-color: var(--fill-color);\n",
              "    }\n",
              "    40% {\n",
              "      border-color: transparent;\n",
              "      border-right-color: var(--fill-color);\n",
              "      border-top-color: var(--fill-color);\n",
              "    }\n",
              "    60% {\n",
              "      border-color: transparent;\n",
              "      border-right-color: var(--fill-color);\n",
              "    }\n",
              "    80% {\n",
              "      border-color: transparent;\n",
              "      border-right-color: var(--fill-color);\n",
              "      border-bottom-color: var(--fill-color);\n",
              "    }\n",
              "    90% {\n",
              "      border-color: transparent;\n",
              "      border-bottom-color: var(--fill-color);\n",
              "    }\n",
              "  }\n",
              "</style>\n",
              "\n",
              "  <script>\n",
              "    async function quickchart(key) {\n",
              "      const quickchartButtonEl =\n",
              "        document.querySelector('#' + key + ' button');\n",
              "      quickchartButtonEl.disabled = true;  // To prevent multiple clicks.\n",
              "      quickchartButtonEl.classList.add('colab-df-spinner');\n",
              "      try {\n",
              "        const charts = await google.colab.kernel.invokeFunction(\n",
              "            'suggestCharts', [key], {});\n",
              "      } catch (error) {\n",
              "        console.error('Error during call to suggestCharts:', error);\n",
              "      }\n",
              "      quickchartButtonEl.classList.remove('colab-df-spinner');\n",
              "      quickchartButtonEl.classList.add('colab-df-quickchart-complete');\n",
              "    }\n",
              "    (() => {\n",
              "      let quickchartButtonEl =\n",
              "        document.querySelector('#df-629835b6-6df2-4375-a765-28ed821d5577 button');\n",
              "      quickchartButtonEl.style.display =\n",
              "        google.colab.kernel.accessAllowed ? 'block' : 'none';\n",
              "    })();\n",
              "  </script>\n",
              "</div>\n",
              "    </div>\n",
              "  </div>\n"
            ],
            "application/vnd.google.colaboratory.intrinsic+json": {
              "type": "dataframe",
              "variable_name": "df",
              "summary": "{\n  \"name\": \"df\",\n  \"rows\": 4269,\n  \"fields\": [\n    {\n      \"column\": \" no_of_dependents\",\n      \"properties\": {\n        \"dtype\": \"number\",\n        \"std\": 1,\n        \"min\": 0,\n        \"max\": 5,\n        \"num_unique_values\": 6,\n        \"samples\": [\n          2,\n          0,\n          1\n        ],\n        \"semantic_type\": \"\",\n        \"description\": \"\"\n      }\n    },\n    {\n      \"column\": \" education\",\n      \"properties\": {\n        \"dtype\": \"number\",\n        \"std\": 0,\n        \"min\": 0,\n        \"max\": 1,\n        \"num_unique_values\": 2,\n        \"samples\": [\n          1,\n          0\n        ],\n        \"semantic_type\": \"\",\n        \"description\": \"\"\n      }\n    },\n    {\n      \"column\": \" self_employed\",\n      \"properties\": {\n        \"dtype\": \"number\",\n        \"std\": 0,\n        \"min\": 0,\n        \"max\": 1,\n        \"num_unique_values\": 2,\n        \"samples\": [\n          1,\n          0\n        ],\n        \"semantic_type\": \"\",\n        \"description\": \"\"\n      }\n    },\n    {\n      \"column\": \" income_annum\",\n      \"properties\": {\n        \"dtype\": \"number\",\n        \"std\": 2806839,\n        \"min\": 200000,\n        \"max\": 9900000,\n        \"num_unique_values\": 98,\n        \"samples\": [\n          6200000,\n          9300000\n        ],\n        \"semantic_type\": \"\",\n        \"description\": \"\"\n      }\n    },\n    {\n      \"column\": \" loan_amount\",\n      \"properties\": {\n        \"dtype\": \"number\",\n        \"std\": 9043362,\n        \"min\": 300000,\n        \"max\": 39500000,\n        \"num_unique_values\": 378,\n        \"samples\": [\n          25800000,\n          26100000\n        ],\n        \"semantic_type\": \"\",\n        \"description\": \"\"\n      }\n    },\n    {\n      \"column\": \" loan_term\",\n      \"properties\": {\n        \"dtype\": \"number\",\n        \"std\": 5,\n        \"min\": 2,\n        \"max\": 20,\n        \"num_unique_values\": 10,\n        \"samples\": [\n          14,\n          8\n        ],\n        \"semantic_type\": \"\",\n        \"description\": \"\"\n      }\n    },\n    {\n      \"column\": \" cibil_score\",\n      \"properties\": {\n        \"dtype\": \"number\",\n        \"std\": 172,\n        \"min\": 300,\n        \"max\": 900,\n        \"num_unique_values\": 601,\n        \"samples\": [\n          859,\n          414\n        ],\n        \"semantic_type\": \"\",\n        \"description\": \"\"\n      }\n    },\n    {\n      \"column\": \" residential_assets_value\",\n      \"properties\": {\n        \"dtype\": \"number\",\n        \"std\": 6503636,\n        \"min\": -100000,\n        \"max\": 29100000,\n        \"num_unique_values\": 278,\n        \"samples\": [\n          700000,\n          3500000\n        ],\n        \"semantic_type\": \"\",\n        \"description\": \"\"\n      }\n    },\n    {\n      \"column\": \" commercial_assets_value\",\n      \"properties\": {\n        \"dtype\": \"number\",\n        \"std\": 4388966,\n        \"min\": 0,\n        \"max\": 19400000,\n        \"num_unique_values\": 188,\n        \"samples\": [\n          13500000,\n          14600000\n        ],\n        \"semantic_type\": \"\",\n        \"description\": \"\"\n      }\n    },\n    {\n      \"column\": \" luxury_assets_value\",\n      \"properties\": {\n        \"dtype\": \"number\",\n        \"std\": 9103753,\n        \"min\": 300000,\n        \"max\": 39200000,\n        \"num_unique_values\": 379,\n        \"samples\": [\n          15300000,\n          12100000\n        ],\n        \"semantic_type\": \"\",\n        \"description\": \"\"\n      }\n    },\n    {\n      \"column\": \" bank_asset_value\",\n      \"properties\": {\n        \"dtype\": \"number\",\n        \"std\": 3250185,\n        \"min\": 0,\n        \"max\": 14700000,\n        \"num_unique_values\": 146,\n        \"samples\": [\n          4800000,\n          14400000\n        ],\n        \"semantic_type\": \"\",\n        \"description\": \"\"\n      }\n    },\n    {\n      \"column\": \" loan_status\",\n      \"properties\": {\n        \"dtype\": \"number\",\n        \"std\": 0,\n        \"min\": 0,\n        \"max\": 1,\n        \"num_unique_values\": 2,\n        \"samples\": [\n          1,\n          0\n        ],\n        \"semantic_type\": \"\",\n        \"description\": \"\"\n      }\n    }\n  ]\n}"
            }
          },
          "metadata": {},
          "execution_count": 8
        }
      ]
    },
    {
      "cell_type": "code",
      "source": [
        "#shows the statistics of the data according to their columns.\n",
        "#i.e mean standard deviation, minimum, maximum, upper quartile, lower quartile and median\n",
        "# higher values greener shade, lower values lighter shade\n",
        "df.describe().T.style.background_gradient(cmap='Greens')"
      ],
      "metadata": {
        "colab": {
          "base_uri": "https://localhost:8080/",
          "height": 446
        },
        "id": "ZotJcYC44t5P",
        "outputId": "8ed62db4-e0f1-44e0-f988-287a2b9efb53"
      },
      "execution_count": null,
      "outputs": [
        {
          "output_type": "execute_result",
          "data": {
            "text/plain": [
              "<pandas.io.formats.style.Styler at 0x7d85bb0b5f30>"
            ],
            "text/html": [
              "<style type=\"text/css\">\n",
              "#T_b0f3e_row0_col0, #T_b0f3e_row0_col1, #T_b0f3e_row0_col2, #T_b0f3e_row0_col4, #T_b0f3e_row0_col5, #T_b0f3e_row0_col6, #T_b0f3e_row0_col7, #T_b0f3e_row1_col0, #T_b0f3e_row1_col1, #T_b0f3e_row1_col2, #T_b0f3e_row1_col4, #T_b0f3e_row1_col5, #T_b0f3e_row1_col6, #T_b0f3e_row1_col7, #T_b0f3e_row2_col0, #T_b0f3e_row2_col1, #T_b0f3e_row2_col2, #T_b0f3e_row2_col4, #T_b0f3e_row2_col5, #T_b0f3e_row2_col6, #T_b0f3e_row2_col7, #T_b0f3e_row3_col0, #T_b0f3e_row4_col0, #T_b0f3e_row5_col0, #T_b0f3e_row5_col1, #T_b0f3e_row5_col2, #T_b0f3e_row5_col4, #T_b0f3e_row5_col5, #T_b0f3e_row5_col6, #T_b0f3e_row5_col7, #T_b0f3e_row6_col0, #T_b0f3e_row6_col1, #T_b0f3e_row6_col2, #T_b0f3e_row6_col4, #T_b0f3e_row6_col5, #T_b0f3e_row6_col6, #T_b0f3e_row6_col7, #T_b0f3e_row7_col0, #T_b0f3e_row7_col3, #T_b0f3e_row8_col0, #T_b0f3e_row9_col0, #T_b0f3e_row10_col0, #T_b0f3e_row11_col0, #T_b0f3e_row11_col1, #T_b0f3e_row11_col2, #T_b0f3e_row11_col4, #T_b0f3e_row11_col5, #T_b0f3e_row11_col6, #T_b0f3e_row11_col7 {\n",
              "  background-color: #f7fcf5;\n",
              "  color: #000000;\n",
              "}\n",
              "#T_b0f3e_row0_col3, #T_b0f3e_row1_col3, #T_b0f3e_row2_col3, #T_b0f3e_row3_col7, #T_b0f3e_row5_col3, #T_b0f3e_row6_col3, #T_b0f3e_row8_col3, #T_b0f3e_row8_col5, #T_b0f3e_row10_col3, #T_b0f3e_row11_col3 {\n",
              "  background-color: #c7e9c0;\n",
              "  color: #000000;\n",
              "}\n",
              "#T_b0f3e_row3_col1 {\n",
              "  background-color: #aedea7;\n",
              "  color: #000000;\n",
              "}\n",
              "#T_b0f3e_row3_col2 {\n",
              "  background-color: #b6e2af;\n",
              "  color: #000000;\n",
              "}\n",
              "#T_b0f3e_row3_col3 {\n",
              "  background-color: #228a44;\n",
              "  color: #f1f1f1;\n",
              "}\n",
              "#T_b0f3e_row3_col4, #T_b0f3e_row3_col5, #T_b0f3e_row8_col6 {\n",
              "  background-color: #a9dca3;\n",
              "  color: #000000;\n",
              "}\n",
              "#T_b0f3e_row3_col6 {\n",
              "  background-color: #aadda4;\n",
              "  color: #000000;\n",
              "}\n",
              "#T_b0f3e_row4_col1, #T_b0f3e_row4_col3, #T_b0f3e_row4_col4, #T_b0f3e_row4_col7, #T_b0f3e_row9_col1, #T_b0f3e_row9_col2, #T_b0f3e_row9_col3, #T_b0f3e_row9_col5, #T_b0f3e_row9_col6 {\n",
              "  background-color: #00441b;\n",
              "  color: #f1f1f1;\n",
              "}\n",
              "#T_b0f3e_row4_col2, #T_b0f3e_row4_col5, #T_b0f3e_row9_col7 {\n",
              "  background-color: #00451c;\n",
              "  color: #f1f1f1;\n",
              "}\n",
              "#T_b0f3e_row4_col6 {\n",
              "  background-color: #00471c;\n",
              "  color: #f1f1f1;\n",
              "}\n",
              "#T_b0f3e_row7_col1 {\n",
              "  background-color: #76c578;\n",
              "  color: #000000;\n",
              "}\n",
              "#T_b0f3e_row7_col2 {\n",
              "  background-color: #2c944c;\n",
              "  color: #f1f1f1;\n",
              "}\n",
              "#T_b0f3e_row7_col4 {\n",
              "  background-color: #bce4b5;\n",
              "  color: #000000;\n",
              "}\n",
              "#T_b0f3e_row7_col5 {\n",
              "  background-color: #9ed798;\n",
              "  color: #000000;\n",
              "}\n",
              "#T_b0f3e_row7_col6 {\n",
              "  background-color: #6bc072;\n",
              "  color: #000000;\n",
              "}\n",
              "#T_b0f3e_row7_col7 {\n",
              "  background-color: #268e47;\n",
              "  color: #f1f1f1;\n",
              "}\n",
              "#T_b0f3e_row8_col1, #T_b0f3e_row10_col1 {\n",
              "  background-color: #afdfa8;\n",
              "  color: #000000;\n",
              "}\n",
              "#T_b0f3e_row8_col2 {\n",
              "  background-color: #7ac77b;\n",
              "  color: #000000;\n",
              "}\n",
              "#T_b0f3e_row8_col4 {\n",
              "  background-color: #dbf1d5;\n",
              "  color: #000000;\n",
              "}\n",
              "#T_b0f3e_row8_col7 {\n",
              "  background-color: #78c679;\n",
              "  color: #000000;\n",
              "}\n",
              "#T_b0f3e_row9_col4 {\n",
              "  background-color: #004c1e;\n",
              "  color: #f1f1f1;\n",
              "}\n",
              "#T_b0f3e_row10_col2 {\n",
              "  background-color: #a7dba0;\n",
              "  color: #000000;\n",
              "}\n",
              "#T_b0f3e_row10_col4 {\n",
              "  background-color: #b8e3b2;\n",
              "  color: #000000;\n",
              "}\n",
              "#T_b0f3e_row10_col5 {\n",
              "  background-color: #b4e1ad;\n",
              "  color: #000000;\n",
              "}\n",
              "#T_b0f3e_row10_col6 {\n",
              "  background-color: #b0dfaa;\n",
              "  color: #000000;\n",
              "}\n",
              "#T_b0f3e_row10_col7 {\n",
              "  background-color: #a2d99c;\n",
              "  color: #000000;\n",
              "}\n",
              "</style>\n",
              "<table id=\"T_b0f3e\" class=\"dataframe\">\n",
              "  <thead>\n",
              "    <tr>\n",
              "      <th class=\"blank level0\" >&nbsp;</th>\n",
              "      <th id=\"T_b0f3e_level0_col0\" class=\"col_heading level0 col0\" >count</th>\n",
              "      <th id=\"T_b0f3e_level0_col1\" class=\"col_heading level0 col1\" >mean</th>\n",
              "      <th id=\"T_b0f3e_level0_col2\" class=\"col_heading level0 col2\" >std</th>\n",
              "      <th id=\"T_b0f3e_level0_col3\" class=\"col_heading level0 col3\" >min</th>\n",
              "      <th id=\"T_b0f3e_level0_col4\" class=\"col_heading level0 col4\" >25%</th>\n",
              "      <th id=\"T_b0f3e_level0_col5\" class=\"col_heading level0 col5\" >50%</th>\n",
              "      <th id=\"T_b0f3e_level0_col6\" class=\"col_heading level0 col6\" >75%</th>\n",
              "      <th id=\"T_b0f3e_level0_col7\" class=\"col_heading level0 col7\" >max</th>\n",
              "    </tr>\n",
              "  </thead>\n",
              "  <tbody>\n",
              "    <tr>\n",
              "      <th id=\"T_b0f3e_level0_row0\" class=\"row_heading level0 row0\" > no_of_dependents</th>\n",
              "      <td id=\"T_b0f3e_row0_col0\" class=\"data row0 col0\" >4269.000000</td>\n",
              "      <td id=\"T_b0f3e_row0_col1\" class=\"data row0 col1\" >2.498712</td>\n",
              "      <td id=\"T_b0f3e_row0_col2\" class=\"data row0 col2\" >1.695910</td>\n",
              "      <td id=\"T_b0f3e_row0_col3\" class=\"data row0 col3\" >0.000000</td>\n",
              "      <td id=\"T_b0f3e_row0_col4\" class=\"data row0 col4\" >1.000000</td>\n",
              "      <td id=\"T_b0f3e_row0_col5\" class=\"data row0 col5\" >3.000000</td>\n",
              "      <td id=\"T_b0f3e_row0_col6\" class=\"data row0 col6\" >4.000000</td>\n",
              "      <td id=\"T_b0f3e_row0_col7\" class=\"data row0 col7\" >5.000000</td>\n",
              "    </tr>\n",
              "    <tr>\n",
              "      <th id=\"T_b0f3e_level0_row1\" class=\"row_heading level0 row1\" > education</th>\n",
              "      <td id=\"T_b0f3e_row1_col0\" class=\"data row1 col0\" >4269.000000</td>\n",
              "      <td id=\"T_b0f3e_row1_col1\" class=\"data row1 col1\" >0.497775</td>\n",
              "      <td id=\"T_b0f3e_row1_col2\" class=\"data row1 col2\" >0.500054</td>\n",
              "      <td id=\"T_b0f3e_row1_col3\" class=\"data row1 col3\" >0.000000</td>\n",
              "      <td id=\"T_b0f3e_row1_col4\" class=\"data row1 col4\" >0.000000</td>\n",
              "      <td id=\"T_b0f3e_row1_col5\" class=\"data row1 col5\" >0.000000</td>\n",
              "      <td id=\"T_b0f3e_row1_col6\" class=\"data row1 col6\" >1.000000</td>\n",
              "      <td id=\"T_b0f3e_row1_col7\" class=\"data row1 col7\" >1.000000</td>\n",
              "    </tr>\n",
              "    <tr>\n",
              "      <th id=\"T_b0f3e_level0_row2\" class=\"row_heading level0 row2\" > self_employed</th>\n",
              "      <td id=\"T_b0f3e_row2_col0\" class=\"data row2 col0\" >4269.000000</td>\n",
              "      <td id=\"T_b0f3e_row2_col1\" class=\"data row2 col1\" >0.503631</td>\n",
              "      <td id=\"T_b0f3e_row2_col2\" class=\"data row2 col2\" >0.500045</td>\n",
              "      <td id=\"T_b0f3e_row2_col3\" class=\"data row2 col3\" >0.000000</td>\n",
              "      <td id=\"T_b0f3e_row2_col4\" class=\"data row2 col4\" >0.000000</td>\n",
              "      <td id=\"T_b0f3e_row2_col5\" class=\"data row2 col5\" >1.000000</td>\n",
              "      <td id=\"T_b0f3e_row2_col6\" class=\"data row2 col6\" >1.000000</td>\n",
              "      <td id=\"T_b0f3e_row2_col7\" class=\"data row2 col7\" >1.000000</td>\n",
              "    </tr>\n",
              "    <tr>\n",
              "      <th id=\"T_b0f3e_level0_row3\" class=\"row_heading level0 row3\" > income_annum</th>\n",
              "      <td id=\"T_b0f3e_row3_col0\" class=\"data row3 col0\" >4269.000000</td>\n",
              "      <td id=\"T_b0f3e_row3_col1\" class=\"data row3 col1\" >5059123.916608</td>\n",
              "      <td id=\"T_b0f3e_row3_col2\" class=\"data row3 col2\" >2806839.831818</td>\n",
              "      <td id=\"T_b0f3e_row3_col3\" class=\"data row3 col3\" >200000.000000</td>\n",
              "      <td id=\"T_b0f3e_row3_col4\" class=\"data row3 col4\" >2700000.000000</td>\n",
              "      <td id=\"T_b0f3e_row3_col5\" class=\"data row3 col5\" >5100000.000000</td>\n",
              "      <td id=\"T_b0f3e_row3_col6\" class=\"data row3 col6\" >7500000.000000</td>\n",
              "      <td id=\"T_b0f3e_row3_col7\" class=\"data row3 col7\" >9900000.000000</td>\n",
              "    </tr>\n",
              "    <tr>\n",
              "      <th id=\"T_b0f3e_level0_row4\" class=\"row_heading level0 row4\" > loan_amount</th>\n",
              "      <td id=\"T_b0f3e_row4_col0\" class=\"data row4 col0\" >4269.000000</td>\n",
              "      <td id=\"T_b0f3e_row4_col1\" class=\"data row4 col1\" >15133450.456781</td>\n",
              "      <td id=\"T_b0f3e_row4_col2\" class=\"data row4 col2\" >9043362.984843</td>\n",
              "      <td id=\"T_b0f3e_row4_col3\" class=\"data row4 col3\" >300000.000000</td>\n",
              "      <td id=\"T_b0f3e_row4_col4\" class=\"data row4 col4\" >7700000.000000</td>\n",
              "      <td id=\"T_b0f3e_row4_col5\" class=\"data row4 col5\" >14500000.000000</td>\n",
              "      <td id=\"T_b0f3e_row4_col6\" class=\"data row4 col6\" >21500000.000000</td>\n",
              "      <td id=\"T_b0f3e_row4_col7\" class=\"data row4 col7\" >39500000.000000</td>\n",
              "    </tr>\n",
              "    <tr>\n",
              "      <th id=\"T_b0f3e_level0_row5\" class=\"row_heading level0 row5\" > loan_term</th>\n",
              "      <td id=\"T_b0f3e_row5_col0\" class=\"data row5 col0\" >4269.000000</td>\n",
              "      <td id=\"T_b0f3e_row5_col1\" class=\"data row5 col1\" >10.900445</td>\n",
              "      <td id=\"T_b0f3e_row5_col2\" class=\"data row5 col2\" >5.709187</td>\n",
              "      <td id=\"T_b0f3e_row5_col3\" class=\"data row5 col3\" >2.000000</td>\n",
              "      <td id=\"T_b0f3e_row5_col4\" class=\"data row5 col4\" >6.000000</td>\n",
              "      <td id=\"T_b0f3e_row5_col5\" class=\"data row5 col5\" >10.000000</td>\n",
              "      <td id=\"T_b0f3e_row5_col6\" class=\"data row5 col6\" >16.000000</td>\n",
              "      <td id=\"T_b0f3e_row5_col7\" class=\"data row5 col7\" >20.000000</td>\n",
              "    </tr>\n",
              "    <tr>\n",
              "      <th id=\"T_b0f3e_level0_row6\" class=\"row_heading level0 row6\" > cibil_score</th>\n",
              "      <td id=\"T_b0f3e_row6_col0\" class=\"data row6 col0\" >4269.000000</td>\n",
              "      <td id=\"T_b0f3e_row6_col1\" class=\"data row6 col1\" >599.936051</td>\n",
              "      <td id=\"T_b0f3e_row6_col2\" class=\"data row6 col2\" >172.430401</td>\n",
              "      <td id=\"T_b0f3e_row6_col3\" class=\"data row6 col3\" >300.000000</td>\n",
              "      <td id=\"T_b0f3e_row6_col4\" class=\"data row6 col4\" >453.000000</td>\n",
              "      <td id=\"T_b0f3e_row6_col5\" class=\"data row6 col5\" >600.000000</td>\n",
              "      <td id=\"T_b0f3e_row6_col6\" class=\"data row6 col6\" >748.000000</td>\n",
              "      <td id=\"T_b0f3e_row6_col7\" class=\"data row6 col7\" >900.000000</td>\n",
              "    </tr>\n",
              "    <tr>\n",
              "      <th id=\"T_b0f3e_level0_row7\" class=\"row_heading level0 row7\" > residential_assets_value</th>\n",
              "      <td id=\"T_b0f3e_row7_col0\" class=\"data row7 col0\" >4269.000000</td>\n",
              "      <td id=\"T_b0f3e_row7_col1\" class=\"data row7 col1\" >7472616.537831</td>\n",
              "      <td id=\"T_b0f3e_row7_col2\" class=\"data row7 col2\" >6503636.587664</td>\n",
              "      <td id=\"T_b0f3e_row7_col3\" class=\"data row7 col3\" >-100000.000000</td>\n",
              "      <td id=\"T_b0f3e_row7_col4\" class=\"data row7 col4\" >2200000.000000</td>\n",
              "      <td id=\"T_b0f3e_row7_col5\" class=\"data row7 col5\" >5600000.000000</td>\n",
              "      <td id=\"T_b0f3e_row7_col6\" class=\"data row7 col6\" >11300000.000000</td>\n",
              "      <td id=\"T_b0f3e_row7_col7\" class=\"data row7 col7\" >29100000.000000</td>\n",
              "    </tr>\n",
              "    <tr>\n",
              "      <th id=\"T_b0f3e_level0_row8\" class=\"row_heading level0 row8\" > commercial_assets_value</th>\n",
              "      <td id=\"T_b0f3e_row8_col0\" class=\"data row8 col0\" >4269.000000</td>\n",
              "      <td id=\"T_b0f3e_row8_col1\" class=\"data row8 col1\" >4973155.305692</td>\n",
              "      <td id=\"T_b0f3e_row8_col2\" class=\"data row8 col2\" >4388966.089638</td>\n",
              "      <td id=\"T_b0f3e_row8_col3\" class=\"data row8 col3\" >0.000000</td>\n",
              "      <td id=\"T_b0f3e_row8_col4\" class=\"data row8 col4\" >1300000.000000</td>\n",
              "      <td id=\"T_b0f3e_row8_col5\" class=\"data row8 col5\" >3700000.000000</td>\n",
              "      <td id=\"T_b0f3e_row8_col6\" class=\"data row8 col6\" >7600000.000000</td>\n",
              "      <td id=\"T_b0f3e_row8_col7\" class=\"data row8 col7\" >19400000.000000</td>\n",
              "    </tr>\n",
              "    <tr>\n",
              "      <th id=\"T_b0f3e_level0_row9\" class=\"row_heading level0 row9\" > luxury_assets_value</th>\n",
              "      <td id=\"T_b0f3e_row9_col0\" class=\"data row9 col0\" >4269.000000</td>\n",
              "      <td id=\"T_b0f3e_row9_col1\" class=\"data row9 col1\" >15126305.926446</td>\n",
              "      <td id=\"T_b0f3e_row9_col2\" class=\"data row9 col2\" >9103753.665256</td>\n",
              "      <td id=\"T_b0f3e_row9_col3\" class=\"data row9 col3\" >300000.000000</td>\n",
              "      <td id=\"T_b0f3e_row9_col4\" class=\"data row9 col4\" >7500000.000000</td>\n",
              "      <td id=\"T_b0f3e_row9_col5\" class=\"data row9 col5\" >14600000.000000</td>\n",
              "      <td id=\"T_b0f3e_row9_col6\" class=\"data row9 col6\" >21700000.000000</td>\n",
              "      <td id=\"T_b0f3e_row9_col7\" class=\"data row9 col7\" >39200000.000000</td>\n",
              "    </tr>\n",
              "    <tr>\n",
              "      <th id=\"T_b0f3e_level0_row10\" class=\"row_heading level0 row10\" > bank_asset_value</th>\n",
              "      <td id=\"T_b0f3e_row10_col0\" class=\"data row10 col0\" >4269.000000</td>\n",
              "      <td id=\"T_b0f3e_row10_col1\" class=\"data row10 col1\" >4976692.433825</td>\n",
              "      <td id=\"T_b0f3e_row10_col2\" class=\"data row10 col2\" >3250185.305696</td>\n",
              "      <td id=\"T_b0f3e_row10_col3\" class=\"data row10 col3\" >0.000000</td>\n",
              "      <td id=\"T_b0f3e_row10_col4\" class=\"data row10 col4\" >2300000.000000</td>\n",
              "      <td id=\"T_b0f3e_row10_col5\" class=\"data row10 col5\" >4600000.000000</td>\n",
              "      <td id=\"T_b0f3e_row10_col6\" class=\"data row10 col6\" >7100000.000000</td>\n",
              "      <td id=\"T_b0f3e_row10_col7\" class=\"data row10 col7\" >14700000.000000</td>\n",
              "    </tr>\n",
              "    <tr>\n",
              "      <th id=\"T_b0f3e_level0_row11\" class=\"row_heading level0 row11\" > loan_status</th>\n",
              "      <td id=\"T_b0f3e_row11_col0\" class=\"data row11 col0\" >4269.000000</td>\n",
              "      <td id=\"T_b0f3e_row11_col1\" class=\"data row11 col1\" >0.377840</td>\n",
              "      <td id=\"T_b0f3e_row11_col2\" class=\"data row11 col2\" >0.484904</td>\n",
              "      <td id=\"T_b0f3e_row11_col3\" class=\"data row11 col3\" >0.000000</td>\n",
              "      <td id=\"T_b0f3e_row11_col4\" class=\"data row11 col4\" >0.000000</td>\n",
              "      <td id=\"T_b0f3e_row11_col5\" class=\"data row11 col5\" >0.000000</td>\n",
              "      <td id=\"T_b0f3e_row11_col6\" class=\"data row11 col6\" >1.000000</td>\n",
              "      <td id=\"T_b0f3e_row11_col7\" class=\"data row11 col7\" >1.000000</td>\n",
              "    </tr>\n",
              "  </tbody>\n",
              "</table>\n"
            ]
          },
          "metadata": {},
          "execution_count": 9
        }
      ]
    },
    {
      "cell_type": "code",
      "source": [
        "plt.figure(figsize=(10,8)) #fixing the figure size 10inch to 8inch\n",
        "sns.heatmap(df.corr(),annot=True,cmap=\"Blues\")\n",
        "#used seaborn heatma, calculates the correlation matrix of the DataFrame between -1 to 1.\n",
        "# -1 indicates a perfect negative correlation,\n",
        "# 0 indicates no correlation, and\n",
        "# 1 indicates a perfect positive correlation.\n",
        "#all the values from -1 to 0 shades heatmaps from lighter to bluer color.\n",
        "plt.show()"
      ],
      "metadata": {
        "colab": {
          "base_uri": "https://localhost:8080/",
          "height": 846
        },
        "id": "tnMNjWB54vx_",
        "outputId": "6daa4099-e6f1-489a-fe08-3cbe5b70a7c7"
      },
      "execution_count": null,
      "outputs": [
        {
          "output_type": "display_data",
          "data": {
            "text/plain": [
              "<Figure size 1000x800 with 2 Axes>"
            ],
            "image/png": "[encoded data removed]"
          },
          "metadata": {}
        }
      ]
    },
    {
      "cell_type": "code",
      "source": [
        "print(\"number of people who take loan as group by  self_employed\")\n",
        "print(df[' self_employed'].value_counts())\n",
        "sns.countplot(x=' self_employed', data = df, palette = 'Set1')"
      ],
      "metadata": {
        "colab": {
          "base_uri": "https://localhost:8080/",
          "height": 661
        },
        "id": "jj9UvWC9mMEX",
        "outputId": "62a9043f-1592-4547-cf4c-5695703d51d6"
      },
      "execution_count": null,
      "outputs": [
        {
          "output_type": "stream",
          "name": "stdout",
          "text": [
            "number of people who take loan as group by  self_employed\n",
            " self_employed\n",
            "1    2150\n",
            "0    2119\n",
            "Name: count, dtype: int64\n"
          ]
        },
        {
          "output_type": "stream",
          "name": "stderr",
          "text": [
            "<ipython-input-11-b1e038fde471>:3: FutureWarning: \n",
            "\n",
            "Passing `palette` without assigning `hue` is deprecated and will be removed in v0.14.0. Assign the `x` variable to `hue` and set `legend=False` for the same effect.\n",
            "\n",
            "  sns.countplot(x=' self_employed', data = df, palette = 'Set1')\n"
          ]
        },
        {
          "output_type": "execute_result",
          "data": {
            "text/plain": [
              "<Axes: xlabel=' self_employed', ylabel='count'>"
            ]
          },
          "metadata": {},
          "execution_count": 11
        },
        {
          "output_type": "display_data",
          "data": {
            "text/plain": [
              "<Figure size 640x480 with 1 Axes>"
            ],
            "image/png": "[encoded data removed]"
          },
          "metadata": {}
        }
      ]
    },
    {
      "cell_type": "code",
      "source": [
        "print(\"number of people who take loan as group by  loan status\")\n",
        "print(df[' loan_status'].value_counts())\n",
        "sns.countplot(x=' loan_status', data = df, palette = 'Set1')"
      ],
      "metadata": {
        "colab": {
          "base_uri": "https://localhost:8080/",
          "height": 661
        },
        "id": "h-eInipt4xtA",
        "outputId": "9e9a5809-d032-4009-8fd5-99b3eee2fabc"
      },
      "execution_count": null,
      "outputs": [
        {
          "output_type": "stream",
          "name": "stdout",
          "text": [
            "number of people who take loan as group by  loan status\n",
            " loan_status\n",
            "0    2656\n",
            "1    1613\n",
            "Name: count, dtype: int64\n"
          ]
        },
        {
          "output_type": "stream",
          "name": "stderr",
          "text": [
            "<ipython-input-12-4911b3aaf0af>:3: FutureWarning: \n",
            "\n",
            "Passing `palette` without assigning `hue` is deprecated and will be removed in v0.14.0. Assign the `x` variable to `hue` and set `legend=False` for the same effect.\n",
            "\n",
            "  sns.countplot(x=' loan_status', data = df, palette = 'Set1')\n"
          ]
        },
        {
          "output_type": "execute_result",
          "data": {
            "text/plain": [
              "<Axes: xlabel=' loan_status', ylabel='count'>"
            ]
          },
          "metadata": {},
          "execution_count": 12
        },
        {
          "output_type": "display_data",
          "data": {
            "text/plain": [
              "<Figure size 640x480 with 1 Axes>"
            ],
            "image/png": "[encoded data removed]"
          },
          "metadata": {}
        }
      ]
    },
    {
      "cell_type": "code",
      "source": [
        "print(\"number of people who take loan as group by education\")\n",
        "print(df[' education'].value_counts())\n",
        "sns.countplot(x=' education', data = df, palette = 'Set1')"
      ],
      "metadata": {
        "colab": {
          "base_uri": "https://localhost:8080/",
          "height": 660
        },
        "id": "LSgHXhjP4zQo",
        "outputId": "5963c14f-67d2-4cae-b387-1256f4b415ac"
      },
      "execution_count": null,
      "outputs": [
        {
          "output_type": "stream",
          "name": "stdout",
          "text": [
            "number of people who take loan as group by education\n",
            " education\n",
            "0    2144\n",
            "1    2125\n",
            "Name: count, dtype: int64\n"
          ]
        },
        {
          "output_type": "stream",
          "name": "stderr",
          "text": [
            "<ipython-input-13-93c3ee59a3af>:3: FutureWarning: \n",
            "\n",
            "Passing `palette` without assigning `hue` is deprecated and will be removed in v0.14.0. Assign the `x` variable to `hue` and set `legend=False` for the same effect.\n",
            "\n",
            "  sns.countplot(x=' education', data = df, palette = 'Set1')\n"
          ]
        },
        {
          "output_type": "execute_result",
          "data": {
            "text/plain": [
              "<Axes: xlabel=' education', ylabel='count'>"
            ]
          },
          "metadata": {},
          "execution_count": 13
        },
        {
          "output_type": "display_data",
          "data": {
            "text/plain": [
              "<Figure size 640x480 with 1 Axes>"
            ],
            "image/png": "[encoded data removed]"
          },
          "metadata": {}
        }
      ]
    },
    {
      "cell_type": "code",
      "source": [
        "\n",
        "sns.scatterplot(x=' cibil_score',y=' loan_status',data=df)\n"
      ],
      "metadata": {
        "colab": {
          "base_uri": "https://localhost:8080/",
          "height": 467
        },
        "id": "TPRdnb8A43hY",
        "outputId": "e93b493a-5838-4489-cebb-255373e770a9"
      },
      "execution_count": null,
      "outputs": [
        {
          "output_type": "execute_result",
          "data": {
            "text/plain": [
              "<Axes: xlabel=' cibil_score', ylabel=' loan_status'>"
            ]
          },
          "metadata": {},
          "execution_count": 14
        },
        {
          "output_type": "display_data",
          "data": {
            "text/plain": [
              "<Figure size 640x480 with 1 Axes>"
            ],
            "image/png": "[encoded data removed]"
          },
          "metadata": {}
        }
      ]
    },
    {
      "cell_type": "markdown",
      "source": [
        "**Feature Scaling**"
      ],
      "metadata": {
        "id": "1ixkEJ1NKnkU"
      }
    },
    {
      "cell_type": "code",
      "source": [
        "from sklearn.preprocessing import MinMaxScaler\n",
        "\n",
        "scaler = MinMaxScaler()\n",
        "x_scaled = scaler.fit_transform(x)\n",
        "x_train_scaled, x_test_scaled, y_train, y_test = train_test_split(x_scaled, y, test_size=0.2)\n"
      ],
      "metadata": {
        "id": "VsSRrlNLKbHH"
      },
      "execution_count": null,
      "outputs": []
    },
    {
      "cell_type": "markdown",
      "source": [
        "**Training Testing Splitting Models**"
      ],
      "metadata": {
        "id": "2YH3zuOBK0HT"
      }
    },
    {
      "cell_type": "code",
      "source": [
        "x = df.drop([\" loan_status\"],axis=1)\n",
        "y = df[\" loan_status\"]\n",
        "\n",
        "from sklearn.model_selection import train_test_split\n",
        "x_train,x_test,y_train,y_test = train_test_split(x,y,test_size=0.2)"
      ],
      "metadata": {
        "id": "dHvscvJN45Q4"
      },
      "execution_count": null,
      "outputs": []
    },
    {
      "cell_type": "markdown",
      "source": [
        "**Logistic Regression**"
      ],
      "metadata": {
        "id": "XZVRIFjMLCx_"
      }
    },
    {
      "cell_type": "code",
      "source": [
        "from sklearn.linear_model import LogisticRegression\n",
        "reg = LogisticRegression()\n",
        "reg.fit(x_train,y_train)\n",
        "regpred = reg.predict(x_test)\n",
        "\n",
        "from sklearn.metrics import classification_report,confusion_matrix,accuracy_score\n",
        "print(classification_report(y_test,regpred))\n",
        "print(\"Accuracy of Logistic Regression is : \",accuracy_score(y_test,regpred)*100)"
      ],
      "metadata": {
        "colab": {
          "base_uri": "https://localhost:8080/"
        },
        "id": "vDc0Fo9P47SI",
        "outputId": "0e02b75b-da5c-48b7-e121-e4eb86ab9b52"
      },
      "execution_count": null,
      "outputs": [
        {
          "output_type": "stream",
          "name": "stdout",
          "text": [
            "              precision    recall  f1-score   support\n",
            "\n",
            "           0       0.62      1.00      0.76       528\n",
            "           1       0.00      0.00      0.00       326\n",
            "\n",
            "    accuracy                           0.62       854\n",
            "   macro avg       0.31      0.50      0.38       854\n",
            "weighted avg       0.38      0.62      0.47       854\n",
            "\n",
            "Accuracy of Logistic Regression is :  61.7096018735363\n"
          ]
        }
      ]
    },
    {
      "cell_type": "code",
      "source": [
        "from sklearn.metrics import mean_absolute_error,mean_squared_error,r2_score\n",
        "\n",
        "print(\"Mean Absolute Error : \",mean_absolute_error(y_test,regpred))\n",
        "print(\"Mean Squared Error : \",mean_squared_error(y_test,regpred))\n",
        "print(\"Root Mean Squared Error : \",np.sqrt(mean_squared_error(y_test,regpred)))\n",
        "print(\"R2 Score : \",r2_score(y_test,regpred))"
      ],
      "metadata": {
        "colab": {
          "base_uri": "https://localhost:8080/"
        },
        "id": "qpP424f13uRe",
        "outputId": "be13f0ef-b63f-4ae2-f194-b8f33a92a53e"
      },
      "execution_count": null,
      "outputs": [
        {
          "output_type": "stream",
          "name": "stdout",
          "text": [
            "Mean Absolute Error :  0.382903981264637\n",
            "Mean Squared Error :  0.382903981264637\n",
            "Root Mean Squared Error :  0.618792357147886\n",
            "R2 Score :  -0.6223856664807583\n"
          ]
        }
      ]
    },
    {
      "cell_type": "markdown",
      "source": [
        "**Decision Tree**"
      ],
      "metadata": {
        "id": "Y67p-lNHLohw"
      }
    },
    {
      "cell_type": "code",
      "source": [
        "from sklearn import tree\n",
        "dtree = tree.DecisionTreeClassifier()\n",
        "dtree.fit(x_train,y_train)\n",
        "dtreepred = dtree.predict(x_test)\n",
        "\n",
        "print(classification_report(y_test,dtreepred))\n",
        "print(\"Accuracy of Decision Tree is : \",accuracy_score(y_test,dtreepred)*100)\n"
      ],
      "metadata": {
        "colab": {
          "base_uri": "https://localhost:8080/"
        },
        "id": "2yamt2RAqUbK",
        "outputId": "3d9810a5-3c6e-4d8a-8cc2-5eb8946ad983"
      },
      "execution_count": null,
      "outputs": [
        {
          "output_type": "stream",
          "name": "stdout",
          "text": [
            "              precision    recall  f1-score   support\n",
            "\n",
            "           0       0.97      0.97      0.97       528\n",
            "           1       0.96      0.96      0.96       326\n",
            "\n",
            "    accuracy                           0.97       854\n",
            "   macro avg       0.97      0.97      0.97       854\n",
            "weighted avg       0.97      0.97      0.97       854\n",
            "\n",
            "Accuracy of Decision Tree is :  96.72131147540983\n"
          ]
        }
      ]
    },
    {
      "cell_type": "code",
      "source": [
        "print(\"Mean Absolute Error : \",mean_absolute_error(y_test,dtreepred))\n",
        "print(\"Mean Squared Error : \",mean_squared_error(y_test,dtreepred))\n",
        "print(\"Root Mean Squared Error : \",np.sqrt(mean_squared_error(y_test,dtreepred)))\n",
        "print(\"R2 Score : \",r2_score(y_test,dtreepred))"
      ],
      "metadata": {
        "colab": {
          "base_uri": "https://localhost:8080/"
        },
        "id": "79NzmzJg4PvT",
        "outputId": "3691bc56-7738-4fd1-f8bb-7f51a0dbf111"
      },
      "execution_count": null,
      "outputs": [
        {
          "output_type": "stream",
          "name": "stdout",
          "text": [
            "Mean Absolute Error :  0.03278688524590164\n",
            "Mean Squared Error :  0.03278688524590164\n",
            "Root Mean Squared Error :  0.18107149208503706\n",
            "R2 Score :  0.8610801264175497\n"
          ]
        }
      ]
    },
    {
      "cell_type": "markdown",
      "source": [
        "**Naive Bayes**"
      ],
      "metadata": {
        "id": "oKYxg-EEobqn"
      }
    },
    {
      "cell_type": "code",
      "source": [
        "from sklearn.naive_bayes import GaussianNB\n",
        "\n",
        "nb_model = GaussianNB()\n",
        "nb_model.fit(x_train, y_train)\n",
        "nb_pred = nb_model.predict(x_test)\n",
        "\n",
        "print(classification_report(y_test, nb_pred))\n",
        "print(\"Accuracy of Naive Bayes is : \", accuracy_score(y_test, nb_pred)*100)\n"
      ],
      "metadata": {
        "colab": {
          "base_uri": "https://localhost:8080/"
        },
        "id": "FZVRHhqb1egK",
        "outputId": "8b35fc44-2077-4537-b8ca-06a8a4549acf"
      },
      "execution_count": null,
      "outputs": [
        {
          "output_type": "stream",
          "name": "stdout",
          "text": [
            "              precision    recall  f1-score   support\n",
            "\n",
            "           0       0.72      0.96      0.83       528\n",
            "           1       0.87      0.40      0.55       326\n",
            "\n",
            "    accuracy                           0.75       854\n",
            "   macro avg       0.80      0.68      0.69       854\n",
            "weighted avg       0.78      0.75      0.72       854\n",
            "\n",
            "Accuracy of Naive Bayes is :  75.05854800936767\n"
          ]
        }
      ]
    },
    {
      "cell_type": "code",
      "source": [
        "print(\"Mean Absolute Error : \",mean_absolute_error(y_test,nb_pred))\n",
        "print(\"Mean Squared Error : \",mean_squared_error(y_test,nb_pred))\n",
        "print(\"Root Mean Squared Error : \",np.sqrt(mean_squared_error(y_test,nb_pred)))\n",
        "print(\"R2 Score : \",r2_score(y_test,nb_pred))"
      ],
      "metadata": {
        "colab": {
          "base_uri": "https://localhost:8080/"
        },
        "id": "nRMfUMyV1eqg",
        "outputId": "dc9f64e7-6287-4194-ecb2-90aede593626"
      },
      "execution_count": null,
      "outputs": [
        {
          "output_type": "stream",
          "name": "stdout",
          "text": [
            "Mean Absolute Error :  0.24941451990632318\n",
            "Mean Squared Error :  0.24941451990632318\n",
            "Root Mean Squared Error :  0.49941417671740473\n",
            "R2 Score :  -0.05678332403792519\n"
          ]
        }
      ]
    },
    {
      "cell_type": "markdown",
      "source": [
        "**Comparing Models**"
      ],
      "metadata": {
        "id": "tmUOe97ULu7h"
      }
    },
    {
      "cell_type": "code",
      "source": [
        "Log_Reg = accuracy_score(y_test,regpred)*100\n",
        "Dec_Tree = accuracy_score(y_test,dtreepred)*100\n",
        "Nav_Bay = accuracy_score(y_test,nb_pred)*100\n",
        "\n",
        "Model = ['Log_Reg','Dec_Tree','Nav_Bay']\n",
        "Score = [Log_Reg,Dec_Tree,Nav_Bay]\n",
        "colors = ['blue', 'green', 'orange']\n",
        "barplot = plt.bar(x=Model,height=Score, color= colors)\n",
        "plt.show()"
      ],
      "metadata": {
        "colab": {
          "base_uri": "https://localhost:8080/",
          "height": 430
        },
        "id": "xfu1niO51euO",
        "outputId": "fe1a8bfa-c21b-4073-c50a-7a97103b3fd3"
      },
      "execution_count": null,
      "outputs": [
        {
          "output_type": "display_data",
          "data": {
            "text/plain": [
              "<Figure size 640x480 with 1 Axes>"
            ],
            "image/png": "[encoded data removed]"
          },
          "metadata": {}
        }
      ]
    },
    {
      "cell_type": "markdown",
      "source": [
        "**Select and Analyze**"
      ],
      "metadata": {
        "id": "1KXa_gW-L2H5"
      }
    },
    {
      "cell_type": "code",
      "source": [
        "importances = dtree.feature_importances_\n",
        "feature_importances = pd.DataFrame({'feature': x.columns, 'importance': importances})\n",
        "\n",
        "feature_importances = feature_importances.sort_values('importance', ascending=False)\n",
        "print(feature_importances)"
      ],
      "metadata": {
        "colab": {
          "base_uri": "https://localhost:8080/"
        },
        "id": "EfIBIrRj1e5i",
        "outputId": "198a70e4-de73-4c31-9143-bee59743a9e8"
      },
      "execution_count": null,
      "outputs": [
        {
          "output_type": "stream",
          "name": "stdout",
          "text": [
            "                      feature  importance\n",
            "6                 cibil_score    0.836139\n",
            "5                   loan_term    0.076431\n",
            "4                 loan_amount    0.040055\n",
            "3                income_annum    0.025178\n",
            "9         luxury_assets_value    0.008733\n",
            "7    residential_assets_value    0.004244\n",
            "8     commercial_assets_value    0.004190\n",
            "0            no_of_dependents    0.003368\n",
            "10           bank_asset_value    0.001663\n",
            "1                   education    0.000000\n",
            "2               self_employed    0.000000\n"
          ]
        }
      ]
    }
  ]
}